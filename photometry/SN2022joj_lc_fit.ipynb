{
 "cells": [
  {
   "cell_type": "code",
   "execution_count": 1,
   "metadata": {
    "ExecuteTime": {
     "end_time": "2023-03-15T02:35:04.015442Z",
     "start_time": "2023-03-15T02:35:03.451607Z"
    }
   },
   "outputs": [],
   "source": [
    "import astropy.units as u\n",
    "import astropy.constants as const\n",
    "import numpy as np\n",
    "import matplotlib.pyplot as plt\n",
    "from astropy.io import fits"
   ]
  },
  {
   "cell_type": "code",
   "execution_count": 2,
   "metadata": {
    "ExecuteTime": {
     "end_time": "2023-03-15T02:35:04.679686Z",
     "start_time": "2023-03-15T02:35:04.662145Z"
    }
   },
   "outputs": [],
   "source": [
    "import matplotlib as mpl\n",
    "from matplotlib.ticker import MultipleLocator\n",
    "\n",
    "color_map = {\n",
    "    \"green1\": \"#66c2a5\",\n",
    "    \"orange\": \"#fc8d62\",\n",
    "    \"blue\": \"#8da0cb\",\n",
    "    \"pink\": \"#e78ac3\",\n",
    "    \"green2\": \"#a6d854\",\n",
    "    \"yellow\": \"#ffd92f\",\n",
    "    \"brown\": \"#e5c494\",\n",
    "    \"grey\": \"#b3b3b3\",\n",
    "}"
   ]
  },
  {
   "cell_type": "code",
   "execution_count": 3,
   "metadata": {
    "ExecuteTime": {
     "end_time": "2023-03-15T02:35:31.960619Z",
     "start_time": "2023-03-15T02:35:31.945392Z"
    }
   },
   "outputs": [],
   "source": [
    "import glob\n",
    "import os\n",
    "import sys\n",
    "sys.path.append('../tools/')\n",
    "\n",
    "from dust_extinction import calALambda\n",
    "from spec_to_flux import spec_to_flux, spec_to_mag\n",
    "from data_binning import data_binning\n",
    "from visual import rcparams_format\n",
    "\n",
    "rcparams_format(mpl.rcParams)"
   ]
  },
  {
   "attachments": {},
   "cell_type": "markdown",
   "metadata": {},
   "source": [
    "## Distance modulus"
   ]
  },
  {
   "cell_type": "code",
   "execution_count": 4,
   "metadata": {},
   "outputs": [],
   "source": [
    "# SN metadata\n",
    "\n",
    "z = 0.02736\n",
    "z_unc = 0.00007\n",
    "t_max_mjd = 59723.65 # t_0 in salt3\n",
    "ebv = 0.032\n",
    "rv = 3.1\n",
    "\n",
    "# tfl = 58972.46296299994\n"
   ]
  },
  {
   "attachments": {},
   "cell_type": "markdown",
   "metadata": {},
   "source": [
    "### IPAC velocity calculator\n",
    "\n",
    "- $z=0.02736$, $v = cz = 8202.3$ km/s, $v_\\mathrm{CMB} = 8346.4$ km/s"
   ]
  },
  {
   "attachments": {},
   "cell_type": "markdown",
   "metadata": {},
   "source": [
    "### Cosmic flow\n",
    "\n",
    "- $\\Omega_M=0.3$, $h_0=0.7$"
   ]
  },
  {
   "cell_type": "code",
   "execution_count": 5,
   "metadata": {},
   "outputs": [
    {
     "name": "stdout",
     "output_type": "stream",
     "text": [
      "Luminosity distances = 119.49 Mpc\n",
      "Distance modulus = 35.39\n"
     ]
    }
   ],
   "source": [
    "cosmo = np.loadtxt('SN2022joj_cosmo.txt')\n",
    "print('Luminosity distances =', cosmo[6], 'Mpc')\n",
    "\n",
    "mu = 5 * np.log10(cosmo[6] * 1e6 / 10)\n",
    "print('Distance modulus = {:.2f}'.format(mu))\n"
   ]
  },
  {
   "attachments": {},
   "cell_type": "markdown",
   "metadata": {},
   "source": [
    "## Light curves"
   ]
  },
  {
   "cell_type": "code",
   "execution_count": 6,
   "metadata": {},
   "outputs": [],
   "source": [
    "import pandas as pd\n",
    "from astropy.table import Table"
   ]
  },
  {
   "cell_type": "code",
   "execution_count": 7,
   "metadata": {},
   "outputs": [
    {
     "name": "stderr",
     "output_type": "stream",
     "text": [
      "/Users/chang/miniconda3/envs/astron/lib/python3.10/site-packages/pandas/core/arraylike.py:396: RuntimeWarning: invalid value encountered in log10\n",
      "  result = getattr(ufunc, method)(*inputs, **kwargs)\n",
      "/Users/chang/miniconda3/envs/astron/lib/python3.10/site-packages/pandas/core/arraylike.py:396: RuntimeWarning: invalid value encountered in log10\n",
      "  result = getattr(ufunc, method)(*inputs, **kwargs)\n",
      "/Users/chang/miniconda3/envs/astron/lib/python3.10/site-packages/pandas/core/arraylike.py:396: RuntimeWarning: invalid value encountered in log10\n",
      "  result = getattr(ufunc, method)(*inputs, **kwargs)\n"
     ]
    }
   ],
   "source": [
    "joj_ZTF = pd.read_csv('./ZTF22aajijjf_forced_fnu.csv')\n",
    "joj_ZTF['MJD'] = joj_ZTF['jd'] - 2400000.5\n",
    "joj_ZTF['phase'] = (joj_ZTF['MJD'] - t_max_mjd) / (1 + z)\n",
    "joj_ZTF['fnu_microJy'] = joj_ZTF['fnu_microJy'] * (1 + z)\n",
    "joj_ZTF['fnu_microJy_unc'] = joj_ZTF['fnu_microJy_unc'] * (1 + z)\n",
    "arg = (joj_ZTF['phase'] <= 150) & (joj_ZTF['phase'] >= -25)\n",
    "joj_ZTF = joj_ZTF[arg]\n",
    "joj_ZTF['mag'] = -2.5 * np.log10(joj_ZTF['fnu_microJy'] * 1e-6/3631)\n",
    "joj_ZTF['mag_err_u'] = -2.5 * np.log10((joj_ZTF['fnu_microJy'] - joj_ZTF['fnu_microJy_unc']) * 1e-6/3631) - joj_ZTF['mag']\n",
    "joj_ZTF['mag_err_l'] = 2.5 * np.log10((joj_ZTF['fnu_microJy'] + joj_ZTF['fnu_microJy_unc']) * 1e-6/3631) + joj_ZTF['mag']\n",
    "joj_ZTF_g = joj_ZTF[joj_ZTF['passband'] == 'ZTF_g'].assign(passband='ztfg')\n",
    "joj_ZTF_r = joj_ZTF[joj_ZTF['passband'] == 'ZTF_r'].assign(passband='ztfr')\n",
    "joj_ZTF_i = joj_ZTF[joj_ZTF['passband'] == 'ZTF_i'].assign(passband='ztfi')\n",
    "joj_ZTF = pd.concat([joj_ZTF_g, joj_ZTF_r, joj_ZTF_i])\n"
   ]
  },
  {
   "cell_type": "code",
   "execution_count": 8,
   "metadata": {},
   "outputs": [],
   "source": [
    "# joj_ZTF = joj_ZTF[~np.isnan(joj_ZTF['mag'])]\n",
    "joj_ZTF_g = joj_ZTF[joj_ZTF['passband'] == 'ztfg']\n",
    "joj_ZTF_r = joj_ZTF[joj_ZTF['passband'] == 'ztfr']\n",
    "joj_ZTF_i = joj_ZTF[joj_ZTF['passband'] == 'ztfi']"
   ]
  },
  {
   "cell_type": "code",
   "execution_count": 9,
   "metadata": {},
   "outputs": [],
   "source": [
    "# UVOT\n",
    "joj_UVOT = pd.read_csv(\n",
    "    \"./UVOT_light_curve.dat\",\n",
    "    delimiter=\" \",\n",
    "    names=[\"time\", \"flux\", \"fluxerr\", \"mag\", \"mag_unc_u\", \"mag_unc_l\", \"lim\", \"band\"],\n",
    ")\n",
    "joj_UVOT_u = joj_UVOT[joj_UVOT[\"band\"] == \"U\"]\n",
    "joj_UVOT_b = joj_UVOT[joj_UVOT[\"band\"] == \"B\"]\n",
    "joj_UVOT_v = joj_UVOT[joj_UVOT[\"band\"] == \"V\"]\n",
    "joj_UVOT_u = joj_UVOT[joj_UVOT[\"band\"] == \"U\"].assign(band=\"uvot::u\")\n",
    "joj_UVOT_b = joj_UVOT[joj_UVOT[\"band\"] == \"B\"].assign(band=\"uvot::b\")\n",
    "joj_UVOT_v = joj_UVOT[joj_UVOT[\"band\"] == \"V\"].assign(band=\"uvot::v\")\n",
    "joj_UVOT = pd.concat([joj_UVOT_b, joj_UVOT_v])"
   ]
  },
  {
   "cell_type": "code",
   "execution_count": 10,
   "metadata": {},
   "outputs": [],
   "source": [
    "# ATLAS\n",
    "joj_ATLAS = pd.read_csv(\"./atlas_forced_phot.txt\", delimiter=\" \", names=[\"MJD\", \"m\", \"dm\", \"uJy\", \"duJy\", \"F\", \"err\", \"chi/N\", \"RA\", \"Dec\", \"x\", \"y\", \"maj\", \"min\", \"phi\", \"apfit\", \"mag5sig\", \"Sky\", \"Obs\"])\n",
    "joj_ATLAS = np.loadtxt(\"./atlas_forced_phot.txt\", dtype=object)\n",
    "# joj_ATLAS = joj_ATLAS[:, [0, 2, 3, ]]\n",
    "joj_ATLAS = joj_ATLAS[:, [0, 3, 4, 5]]\n",
    "joj_ATLAS[:, :-1] = np.array(joj_ATLAS[:, :-1], dtype=float)\n",
    "joj_ATLAS_o = joj_ATLAS[joj_ATLAS[:, -1] == \"o\"]\n",
    "arg = ((joj_ATLAS_o[:, 0] - t_max_mjd) / (1 + z) <= 48) & ((joj_ATLAS_o[:, 0] - t_max_mjd) / (1 + z) >= -48)\n",
    "joj_ATLAS_o[:, -1] = \"atlaso\"\n",
    "joj_ATLAS_o = joj_ATLAS_o[arg]\n",
    "joj_ATLAS_o = pd.DataFrame(joj_ATLAS_o, columns=[\"time\", \"flux\", \"fluxerr\", \"band\"])"
   ]
  },
  {
   "cell_type": "code",
   "execution_count": 11,
   "metadata": {},
   "outputs": [],
   "source": [
    "joj_UCB = pd.read_csv(\"./UCB_phot.dat\", comment='#', sep=\"\\t\")"
   ]
  },
  {
   "attachments": {},
   "cell_type": "markdown",
   "metadata": {},
   "source": [
    "## Early rise"
   ]
  },
  {
   "cell_type": "code",
   "execution_count": 12,
   "metadata": {},
   "outputs": [],
   "source": [
    "import pymc as pm\n",
    "import arviz as az"
   ]
  },
  {
   "cell_type": "code",
   "execution_count": 12,
   "metadata": {},
   "outputs": [],
   "source": [
    "joj_ZTF_r_rise = joj_ZTF_r[\n",
    "    ((joj_ZTF_r[\"MJD\"] - t_max_mjd) / (1 + z) <= 0)\n",
    "    & ((joj_ZTF_r[\"MJD\"] - t_max_mjd) / (1 + z) >= -25)\n",
    "    & (joj_ZTF_r[\"fnu_microJy\"]/joj_ZTF_r[\"fnu_microJy\"].max() <= 0.4)\n",
    "]"
   ]
  },
  {
   "cell_type": "code",
   "execution_count": 13,
   "metadata": {},
   "outputs": [],
   "source": [
    "### MJD          m      dm   uJy   duJy F err chi/N     RA       Dec        x        y     maj  min   phi  apfit mag5sig Sky   Obs\n",
    "with open(\"./atlas_forced_phot.txt\") as f:\n",
    "    lines = f.readlines()\n",
    "joj_ATLAS = {\"MJD\":[], \"fnu_microJy\":[], \"fnu_microJy_unc\":[], \"passband\":[]}\n",
    "for l in lines[1:]:\n",
    "    dat = l.split()\n",
    "    joj_ATLAS[\"MJD\"] = np.append(joj_ATLAS[\"MJD\"], float(dat[0]))\n",
    "    joj_ATLAS[\"fnu_microJy\"] = np.append(joj_ATLAS[\"fnu_microJy\"], float(dat[3]))\n",
    "    joj_ATLAS[\"fnu_microJy_unc\"] = np.append(joj_ATLAS[\"fnu_microJy_unc\"], float(dat[4]))\n",
    "    joj_ATLAS[\"passband\"] = np.append(joj_ATLAS[\"passband\"], dat[5])\n",
    "joj_ATLAS = pd.DataFrame(joj_ATLAS)\n",
    "joj_ATLAS_o = joj_ATLAS[joj_ATLAS[\"passband\"] == \"o\"]\n",
    "joj_ATLAS_o_rise = joj_ATLAS_o[\n",
    "    ((joj_ATLAS_o[\"MJD\"] - t_max_mjd) / (1 + z) <= 0)\n",
    "    & ((joj_ATLAS_o[\"MJD\"] - t_max_mjd) / (1 + z) >= -25)\n",
    "    & (joj_ATLAS_o[\"fnu_microJy\"]/joj_ATLAS_o[\"fnu_microJy\"].max() <= 0.4)\n",
    "]"
   ]
  },
  {
   "cell_type": "code",
   "execution_count": 25,
   "metadata": {},
   "outputs": [
    {
     "name": "stderr",
     "output_type": "stream",
     "text": [
      "Auto-assigning NUTS sampler...\n",
      "Initializing NUTS using jitter+adapt_diag...\n",
      "Multiprocess sampling (4 chains in 4 jobs)\n",
      "NUTS: [t_exp, alpha_ZTF, log_A_ZTF, alpha_ATLAS, log_A_ATLAS]\n"
     ]
    },
    {
     "name": "stderr",
     "output_type": "stream",
     "text": [
      "Sampling 4 chains for 5_000 tune and 1_000 draw iterations (20_000 + 4_000 draws total) took 111 seconds.\n",
      "There were 11 divergences after tuning. Increase `target_accept` or reparameterize.\n",
      "There were 17 divergences after tuning. Increase `target_accept` or reparameterize.\n",
      "There were 8 divergences after tuning. Increase `target_accept` or reparameterize.\n",
      "There were 8 divergences after tuning. Increase `target_accept` or reparameterize.\n",
      "There were 11 divergences after tuning. Increase `target_accept` or reparameterize.\n",
      "There were 17 divergences after tuning. Increase `target_accept` or reparameterize.\n",
      "There were 8 divergences after tuning. Increase `target_accept` or reparameterize.\n",
      "There were 8 divergences after tuning. Increase `target_accept` or reparameterize.\n",
      "Auto-assigning NUTS sampler...\n",
      "Initializing NUTS using jitter+adapt_diag...\n",
      "Multiprocess sampling (4 chains in 4 jobs)\n",
      "NUTS: [t_exp, log_A_ZTF, log_A_ATLAS]\n"
     ]
    },
    {
     "name": "stderr",
     "output_type": "stream",
     "text": [
      "Sampling 4 chains for 2_000 tune and 1_000 draw iterations (8_000 + 4_000 draws total) took 16 seconds.\n"
     ]
    }
   ],
   "source": [
    "MJD_pred = np.linspace(-25, -10, 100) + t_max_mjd\n",
    "with pm.Model() as rise_MJD:\n",
    "    t_exp = pm.Uniform(\n",
    "        \"t_exp\", joj_ZTF_r_rise[\"MJD\"].values[0], joj_ZTF_r_rise[\"MJD\"].values[-1]\n",
    "    )\n",
    "    alpha_ZTF = pm.Normal(\"alpha_ZTF\", 2, 1)\n",
    "    log_A_ZTF = pm.Uniform(\"log_A_ZTF\", 0, 2)\n",
    "    phase_ZTF = joj_ZTF_r_rise[\"MJD\"].values - t_exp\n",
    "    flux_ZTF = pm.Deterministic(\n",
    "        \"flux_ZTF\", 10**log_A_ZTF * ((phase_ZTF + np.abs(phase_ZTF)) / 2) ** alpha_ZTF\n",
    "    )\n",
    "    alpha_ATLAS = pm.Normal(\"alpha_ATLAS\", 2, 1)\n",
    "    log_A_ATLAS = pm.Uniform(\"log_A_ATLAS\", 0, 2)\n",
    "    phase_ATLAS = joj_ATLAS_o_rise[\"MJD\"].values - t_exp\n",
    "    flux_ATLAS = pm.Deterministic(\n",
    "        \"flux_ATLAS\",\n",
    "        10**log_A_ATLAS * ((phase_ATLAS + np.abs(phase_ATLAS)) / 2) ** alpha_ATLAS,\n",
    "    )\n",
    "    flux_obs_ZTF = pm.Normal(\n",
    "        \"flux_obs_ZTF\",\n",
    "        flux_ZTF,\n",
    "        joj_ZTF_r_rise[\"fnu_microJy_unc\"].values,\n",
    "        observed=joj_ZTF_r_rise[\"fnu_microJy\"].values,\n",
    "    )\n",
    "    flux_obs_ATLAS = pm.Normal(\n",
    "        \"flux_obs_ATLAS\",\n",
    "        flux_ATLAS,\n",
    "        joj_ATLAS_o_rise[\"fnu_microJy_unc\"].values,\n",
    "        observed=joj_ATLAS_o_rise[\"fnu_microJy\"].values,\n",
    "    )\n",
    "    flux_pred_ZTF = pm.Deterministic(\n",
    "        \"flux_pred_ZTF\",\n",
    "        10**log_A_ZTF\n",
    "        * (((MJD_pred - t_exp) + np.abs(MJD_pred - t_exp)) / 2) ** alpha_ZTF,\n",
    "    )\n",
    "    flux_pred_ATLAS = pm.Deterministic(\n",
    "        \"flux_pred_ATLAS\",\n",
    "        10**log_A_ATLAS\n",
    "        * (((MJD_pred - t_exp) + np.abs(MJD_pred - t_exp)) / 2) ** alpha_ATLAS,\n",
    "    )\n",
    "    trace_MJD = pm.sample(return_inferencedata=True, tune=5000, target_accept=0.95)\n",
    "\n",
    "with pm.Model() as rise_alpha2_MJD:\n",
    "    t_exp = pm.Uniform(\n",
    "        \"t_exp\", joj_ZTF_r_rise[\"MJD\"].values[0], joj_ZTF_r_rise[\"MJD\"].values[-1]\n",
    "    )\n",
    "    alpha_ZTF = 2\n",
    "    log_A_ZTF = pm.Uniform(\"log_A_ZTF\", 0, 2)\n",
    "    phase_ZTF = (joj_ZTF_r_rise[\"MJD\"].values - t_exp)\n",
    "    flux_ZTF = pm.Deterministic(\n",
    "        \"flux_ZTF\", 10**log_A_ZTF * ((phase_ZTF + np.abs(phase_ZTF)) / 2) ** alpha_ZTF\n",
    "    )\n",
    "    alpha_ATLAS = 2\n",
    "    log_A_ATLAS = pm.Uniform(\"log_A_ATLAS\", 0, 2)\n",
    "    phase_ATLAS = (joj_ATLAS_o_rise[\"MJD\"].values - t_exp)\n",
    "    flux_ATLAS = pm.Deterministic(\n",
    "        \"flux_ATLAS\",\n",
    "        10**log_A_ATLAS * ((phase_ATLAS + np.abs(phase_ATLAS)) / 2) ** alpha_ATLAS,\n",
    "    )\n",
    "    flux_obs_ZTF = pm.Normal(\n",
    "        \"flux_obs_ZTF\",\n",
    "        flux_ZTF,\n",
    "        joj_ZTF_r_rise[\"fnu_microJy_unc\"].values,\n",
    "        observed=joj_ZTF_r_rise[\"fnu_microJy\"].values,\n",
    "    )\n",
    "    flux_obs_ATLAS = pm.Normal(\n",
    "        \"flux_obs_ATLAS\",\n",
    "        flux_ATLAS,\n",
    "        joj_ATLAS_o_rise[\"fnu_microJy_unc\"].values,\n",
    "        observed=joj_ATLAS_o_rise[\"fnu_microJy\"].values,\n",
    "    )\n",
    "    flux_pred_ZTF = pm.Deterministic(\n",
    "        \"flux_pred_ZTF\",\n",
    "        10**log_A_ZTF\n",
    "        * (((MJD_pred - t_exp) + np.abs(MJD_pred - t_exp)) / 2) ** alpha_ZTF,\n",
    "    )\n",
    "    flux_pred_ATLAS = pm.Deterministic(\n",
    "        \"flux_pred_ATLAS\",\n",
    "        10**log_A_ATLAS\n",
    "        * (((MJD_pred - t_exp) + np.abs(MJD_pred - t_exp)) / 2)\n",
    "        ** alpha_ATLAS,\n",
    "    )\n",
    "    trace_MJD_alpha2 = pm.sample(return_inferencedata=True, tune=2000)"
   ]
  },
  {
   "cell_type": "code",
   "execution_count": 26,
   "metadata": {},
   "outputs": [
    {
     "name": "stderr",
     "output_type": "stream",
     "text": [
      "/Users/chang/miniconda3/envs/astron/lib/python3.10/site-packages/arviz/stats/diagnostics.py:586: RuntimeWarning: invalid value encountered in double_scalars\n",
      "  (between_chain_variance / within_chain_variance + num_samples - 1) / (num_samples)\n",
      "/Users/chang/miniconda3/envs/astron/lib/python3.10/site-packages/arviz/stats/diagnostics.py:586: RuntimeWarning: invalid value encountered in double_scalars\n",
      "  (between_chain_variance / within_chain_variance + num_samples - 1) / (num_samples)\n"
     ]
    },
    {
     "data": {
      "text/html": [
       "<div>\n",
       "<style scoped>\n",
       "    .dataframe tbody tr th:only-of-type {\n",
       "        vertical-align: middle;\n",
       "    }\n",
       "\n",
       "    .dataframe tbody tr th {\n",
       "        vertical-align: top;\n",
       "    }\n",
       "\n",
       "    .dataframe thead th {\n",
       "        text-align: right;\n",
       "    }\n",
       "</style>\n",
       "<table border=\"1\" class=\"dataframe\">\n",
       "  <thead>\n",
       "    <tr style=\"text-align: right;\">\n",
       "      <th></th>\n",
       "      <th>mean</th>\n",
       "      <th>sd</th>\n",
       "      <th>hdi_16%</th>\n",
       "      <th>hdi_84%</th>\n",
       "      <th>mcse_mean</th>\n",
       "      <th>mcse_sd</th>\n",
       "      <th>ess_bulk</th>\n",
       "      <th>ess_tail</th>\n",
       "      <th>r_hat</th>\n",
       "    </tr>\n",
       "  </thead>\n",
       "  <tbody>\n",
       "    <tr>\n",
       "      <th>alpha_ZTF</th>\n",
       "      <td>2.179</td>\n",
       "      <td>0.209</td>\n",
       "      <td>1.944</td>\n",
       "      <td>2.384</td>\n",
       "      <td>0.008</td>\n",
       "      <td>0.005</td>\n",
       "      <td>749.0</td>\n",
       "      <td>970.0</td>\n",
       "      <td>1.0</td>\n",
       "    </tr>\n",
       "    <tr>\n",
       "      <th>alpha_ATLAS</th>\n",
       "      <td>2.312</td>\n",
       "      <td>0.360</td>\n",
       "      <td>2.113</td>\n",
       "      <td>2.789</td>\n",
       "      <td>0.012</td>\n",
       "      <td>0.008</td>\n",
       "      <td>939.0</td>\n",
       "      <td>1112.0</td>\n",
       "      <td>1.0</td>\n",
       "    </tr>\n",
       "    <tr>\n",
       "      <th>t_exp</th>\n",
       "      <td>59703.158</td>\n",
       "      <td>0.600</td>\n",
       "      <td>59702.583</td>\n",
       "      <td>59703.855</td>\n",
       "      <td>0.022</td>\n",
       "      <td>0.015</td>\n",
       "      <td>761.0</td>\n",
       "      <td>1100.0</td>\n",
       "      <td>1.0</td>\n",
       "    </tr>\n",
       "    <tr>\n",
       "      <th>log_A_ZTF</th>\n",
       "      <td>0.567</td>\n",
       "      <td>0.258</td>\n",
       "      <td>0.321</td>\n",
       "      <td>0.866</td>\n",
       "      <td>0.009</td>\n",
       "      <td>0.007</td>\n",
       "      <td>746.0</td>\n",
       "      <td>983.0</td>\n",
       "      <td>1.0</td>\n",
       "    </tr>\n",
       "    <tr>\n",
       "      <th>log_A_ATLAS</th>\n",
       "      <td>0.446</td>\n",
       "      <td>0.327</td>\n",
       "      <td>0.000</td>\n",
       "      <td>0.560</td>\n",
       "      <td>0.011</td>\n",
       "      <td>0.008</td>\n",
       "      <td>833.0</td>\n",
       "      <td>1069.0</td>\n",
       "      <td>1.0</td>\n",
       "    </tr>\n",
       "  </tbody>\n",
       "</table>\n",
       "</div>"
      ],
      "text/plain": [
       "                  mean     sd    hdi_16%    hdi_84%  mcse_mean  mcse_sd  \\\n",
       "alpha_ZTF        2.179  0.209      1.944      2.384      0.008    0.005   \n",
       "alpha_ATLAS      2.312  0.360      2.113      2.789      0.012    0.008   \n",
       "t_exp        59703.158  0.600  59702.583  59703.855      0.022    0.015   \n",
       "log_A_ZTF        0.567  0.258      0.321      0.866      0.009    0.007   \n",
       "log_A_ATLAS      0.446  0.327      0.000      0.560      0.011    0.008   \n",
       "\n",
       "             ess_bulk  ess_tail  r_hat  \n",
       "alpha_ZTF       749.0     970.0    1.0  \n",
       "alpha_ATLAS     939.0    1112.0    1.0  \n",
       "t_exp           761.0    1100.0    1.0  \n",
       "log_A_ZTF       746.0     983.0    1.0  \n",
       "log_A_ATLAS     833.0    1069.0    1.0  "
      ]
     },
     "execution_count": 26,
     "metadata": {},
     "output_type": "execute_result"
    }
   ],
   "source": [
    "summary = az.summary(trace_MJD, hdi_prob=0.68, var_names=[var for var in trace_MJD.posterior.data_vars if not 'flux' in var])\n",
    "summary_pred = az.summary(trace_MJD, hdi_prob=0.68, var_names=[var for var in trace_MJD.posterior.data_vars if 'pred' in var])\n",
    "summary"
   ]
  },
  {
   "cell_type": "code",
   "execution_count": 24,
   "metadata": {},
   "outputs": [
    {
     "name": "stderr",
     "output_type": "stream",
     "text": [
      "/Users/chang/miniconda3/envs/astron/lib/python3.10/site-packages/arviz/stats/diagnostics.py:586: RuntimeWarning: invalid value encountered in double_scalars\n",
      "  (between_chain_variance / within_chain_variance + num_samples - 1) / (num_samples)\n",
      "/Users/chang/miniconda3/envs/astron/lib/python3.10/site-packages/arviz/stats/diagnostics.py:586: RuntimeWarning: invalid value encountered in double_scalars\n",
      "  (between_chain_variance / within_chain_variance + num_samples - 1) / (num_samples)\n"
     ]
    },
    {
     "data": {
      "text/html": [
       "<div>\n",
       "<style scoped>\n",
       "    .dataframe tbody tr th:only-of-type {\n",
       "        vertical-align: middle;\n",
       "    }\n",
       "\n",
       "    .dataframe tbody tr th {\n",
       "        vertical-align: top;\n",
       "    }\n",
       "\n",
       "    .dataframe thead th {\n",
       "        text-align: right;\n",
       "    }\n",
       "</style>\n",
       "<table border=\"1\" class=\"dataframe\">\n",
       "  <thead>\n",
       "    <tr style=\"text-align: right;\">\n",
       "      <th></th>\n",
       "      <th>mean</th>\n",
       "      <th>sd</th>\n",
       "      <th>hdi_16%</th>\n",
       "      <th>hdi_84%</th>\n",
       "      <th>mcse_mean</th>\n",
       "      <th>mcse_sd</th>\n",
       "      <th>ess_bulk</th>\n",
       "      <th>ess_tail</th>\n",
       "      <th>r_hat</th>\n",
       "    </tr>\n",
       "  </thead>\n",
       "  <tbody>\n",
       "    <tr>\n",
       "      <th>t_exp</th>\n",
       "      <td>59703.658</td>\n",
       "      <td>0.111</td>\n",
       "      <td>59703.548</td>\n",
       "      <td>59703.765</td>\n",
       "      <td>0.003</td>\n",
       "      <td>0.002</td>\n",
       "      <td>1151.0</td>\n",
       "      <td>1307.0</td>\n",
       "      <td>1.0</td>\n",
       "    </tr>\n",
       "    <tr>\n",
       "      <th>log_A_ZTF</th>\n",
       "      <td>0.788</td>\n",
       "      <td>0.015</td>\n",
       "      <td>0.774</td>\n",
       "      <td>0.804</td>\n",
       "      <td>0.000</td>\n",
       "      <td>0.000</td>\n",
       "      <td>1144.0</td>\n",
       "      <td>1160.0</td>\n",
       "      <td>1.0</td>\n",
       "    </tr>\n",
       "    <tr>\n",
       "      <th>log_A_ATLAS</th>\n",
       "      <td>0.778</td>\n",
       "      <td>0.023</td>\n",
       "      <td>0.757</td>\n",
       "      <td>0.802</td>\n",
       "      <td>0.001</td>\n",
       "      <td>0.000</td>\n",
       "      <td>1448.0</td>\n",
       "      <td>1594.0</td>\n",
       "      <td>1.0</td>\n",
       "    </tr>\n",
       "  </tbody>\n",
       "</table>\n",
       "</div>"
      ],
      "text/plain": [
       "                  mean     sd    hdi_16%    hdi_84%  mcse_mean  mcse_sd  \\\n",
       "t_exp        59703.658  0.111  59703.548  59703.765      0.003    0.002   \n",
       "log_A_ZTF        0.788  0.015      0.774      0.804      0.000    0.000   \n",
       "log_A_ATLAS      0.778  0.023      0.757      0.802      0.001    0.000   \n",
       "\n",
       "             ess_bulk  ess_tail  r_hat  \n",
       "t_exp          1151.0    1307.0    1.0  \n",
       "log_A_ZTF      1144.0    1160.0    1.0  \n",
       "log_A_ATLAS    1448.0    1594.0    1.0  "
      ]
     },
     "execution_count": 24,
     "metadata": {},
     "output_type": "execute_result"
    }
   ],
   "source": [
    "summary_alpha2 = az.summary(trace_MJD_alpha2, hdi_prob=0.68, var_names=[var for var in trace_MJD_alpha2.posterior.data_vars if not 'flux' in var])\n",
    "summary_alpha2_pred = az.summary(trace_MJD_alpha2, hdi_prob=0.68, var_names=[var for var in trace_MJD_alpha2.posterior.data_vars if 'pred' in var])\n",
    "summary_alpha2"
   ]
  },
  {
   "cell_type": "code",
   "execution_count": 20,
   "metadata": {},
   "outputs": [
    {
     "data": {
      "text/plain": [
       "19.461532471576444"
      ]
     },
     "execution_count": 20,
     "metadata": {},
     "output_type": "execute_result"
    }
   ],
   "source": [
    "t_fl_mjd = 59703.136\n",
    "t_fl_mjd_up, t_fl_mjd_lo = 59703.759, 59702.566\n",
    "t_max_mjd_B = 59723.13\n",
    "rise_time = (t_max_mjd_B - t_fl_mjd) / (1 + z)\n",
    "rise_time"
   ]
  },
  {
   "cell_type": "code",
   "execution_count": 27,
   "metadata": {},
   "outputs": [
    {
     "data": {
      "text/plain": [
       "(-50.0, 550.0)"
      ]
     },
     "execution_count": 27,
     "metadata": {},
     "output_type": "execute_result"
    },
    {
     "data": {
      "image/png": "[encoded data removed]",
      "text/plain": [
       "<Figure size 576x432 with 2 Axes>"
      ]
     },
     "metadata": {
      "needs_background": "light"
     },
     "output_type": "display_data"
    }
   ],
   "source": [
    "fig, ax = plt.subplots(2, 1, figsize=(8, 6), sharex=True, constrained_layout=True)\n",
    "pred_ZTF = summary_pred.loc[summary_pred.index[:100]]\n",
    "pred_ATLAS = summary_pred.loc[summary_pred.index[100:]]\n",
    "ax[0].plot((MJD_pred - t_max_mjd_B) / (1 + z), pred_ZTF[\"mean\"], color=\"k\")\n",
    "ax[0].fill_between(\n",
    "    (MJD_pred - t_max_mjd_B) / (1 + z), pred_ZTF[\"hdi_16%\"], pred_ZTF[\"hdi_84%\"], color=\"0.5\", alpha=0.5\n",
    ")\n",
    "ax[0].errorbar(\n",
    "    (joj_ZTF_r_rise[\"MJD\"].values - t_max_mjd_B) / (1 + z),\n",
    "    joj_ZTF_r_rise[\"fnu_microJy\"].values,\n",
    "    yerr=joj_ZTF_r_rise[\"fnu_microJy_unc\"].values,\n",
    "    fmt=\"o\",\n",
    ")\n",
    "ax[1].plot((MJD_pred - t_max_mjd_B) / (1 + z), pred_ATLAS[\"mean\"], color=\"k\")\n",
    "ax[1].fill_between(\n",
    "    (MJD_pred - t_max_mjd_B) / (1 + z), pred_ATLAS[\"hdi_16%\"], pred_ATLAS[\"hdi_84%\"], color=\"0.5\", alpha=0.5\n",
    ")\n",
    "ax[1].errorbar(\n",
    "    (joj_ATLAS_o_rise[\"MJD\"].values - t_max_mjd_B) / (1 + z),\n",
    "    joj_ATLAS_o_rise[\"fnu_microJy\"].values,\n",
    "    yerr=joj_ATLAS_o_rise[\"fnu_microJy_unc\"].values,\n",
    "    fmt=\"o\",\n",
    ")\n",
    "# plt.yscale('log')\n",
    "plt.xlim(-25, -10)\n",
    "ax[0].set_ylim(-50, 550)\n",
    "ax[1].set_ylim(-50, 550)\n",
    "# plt.yscale(\"log\")"
   ]
  },
  {
   "attachments": {},
   "cell_type": "markdown",
   "metadata": {},
   "source": [
    "### Polynomial"
   ]
  },
  {
   "cell_type": "code",
   "execution_count": 13,
   "metadata": {},
   "outputs": [],
   "source": [
    "def peak_poly_fit(MJD, mag_obs, mag_obs_unc, z=0, t_max_0=59723):\n",
    "    MJD_pred = np.linspace(-20, 20, 100) + t_max_0\n",
    "    with pm.Model() as peak:\n",
    "        # t_max = pm.Uniform(\"t_max\", 59721, 59724)\n",
    "        t_max = pm.Normal(\"t_max\", t_max_0, 5)\n",
    "\n",
    "        a4 = pm.Uniform(\"a4\", -1e-2, 1e-2)\n",
    "        a3 = pm.Uniform(\"a3\", -1e-2, 1e-2)\n",
    "        a2 = pm.Uniform(\"a2\", -1e-2, 1e-2)\n",
    "        a0 = pm.Uniform(\"a0\", mag_obs.min() - 0.5, mag_obs.min() + 0.5)\n",
    "\n",
    "        phase = (MJD - t_max) / (1 + z)\n",
    "        phase_pred = (MJD_pred - t_max) / (1 + z)\n",
    "        mag = pm.Deterministic(\n",
    "            \"mag\",\n",
    "            a4 * phase**4 + a3 * phase**3 + a2 * phase**2 + a0,\n",
    "        )\n",
    "        mag_obs = pm.Normal(\"mag_obs\", mag, mag_obs_unc, observed=mag_obs)\n",
    "        mag_pred = pm.Deterministic(\n",
    "            \"mag_pred\",\n",
    "            a4 * phase_pred**4 + a3 * phase_pred**3 + a2 * phase_pred**2 + a0,\n",
    "        )\n",
    "        dt = 15\n",
    "        delta_m_15 = pm.Deterministic(\n",
    "            \"delta_m_15\", a4 * dt**4 + a3 * dt**3 + a2 * dt**2\n",
    "        )\n",
    "        trace_peak = pm.sample(return_inferencedata=True, tune=2000)\n",
    "    return trace_peak"
   ]
  },
  {
   "cell_type": "code",
   "execution_count": 72,
   "metadata": {},
   "outputs": [
    {
     "name": "stderr",
     "output_type": "stream",
     "text": [
      "Auto-assigning NUTS sampler...\n",
      "Initializing NUTS using jitter+adapt_diag...\n",
      "Multiprocess sampling (4 chains in 4 jobs)\n",
      "NUTS: [t_max, a4, a3, a2, a0]\n"
     ]
    },
    {
     "data": {
      "text/html": [
       "\n",
       "<style>\n",
       "    /* Turns off some styling */\n",
       "    progress {\n",
       "        /* gets rid of default border in Firefox and Opera. */\n",
       "        border: none;\n",
       "        /* Needs to be in here for Safari polyfill so background images work as expected. */\n",
       "        background-size: auto;\n",
       "    }\n",
       "    progress:not([value]), progress:not([value])::-webkit-progress-bar {\n",
       "        background: repeating-linear-gradient(45deg, #7e7e7e, #7e7e7e 10px, #5c5c5c 10px, #5c5c5c 20px);\n",
       "    }\n",
       "    .progress-bar-interrupted, .progress-bar-interrupted::-webkit-progress-bar {\n",
       "        background: #F44336;\n",
       "    }\n",
       "</style>\n"
      ],
      "text/plain": [
       "<IPython.core.display.HTML object>"
      ]
     },
     "metadata": {},
     "output_type": "display_data"
    },
    {
     "data": {
      "text/html": [
       "\n",
       "    <div>\n",
       "      <progress value='12000' class='' max='12000' style='width:300px; height:20px; vertical-align: middle;'></progress>\n",
       "      100.00% [12000/12000 00:16&lt;00:00 Sampling 4 chains, 28 divergences]\n",
       "    </div>\n",
       "    "
      ],
      "text/plain": [
       "<IPython.core.display.HTML object>"
      ]
     },
     "metadata": {},
     "output_type": "display_data"
    },
    {
     "name": "stderr",
     "output_type": "stream",
     "text": [
      "Sampling 4 chains for 2_000 tune and 1_000 draw iterations (8_000 + 4_000 draws total) took 24 seconds.\n",
      "There were 18 divergences after tuning. Increase `target_accept` or reparameterize.\n",
      "The acceptance probability does not match the target. It is 0.6043, but should be close to 0.8. Try to increase the number of tuning steps.\n",
      "There were 10 divergences after tuning. Increase `target_accept` or reparameterize.\n",
      "The acceptance probability does not match the target. It is 0.6828, but should be close to 0.8. Try to increase the number of tuning steps.\n",
      "Auto-assigning NUTS sampler...\n",
      "Initializing NUTS using jitter+adapt_diag...\n",
      "Multiprocess sampling (4 chains in 4 jobs)\n",
      "NUTS: [t_max, a4, a3, a2, a0]\n"
     ]
    },
    {
     "data": {
      "text/html": [
       "\n",
       "<style>\n",
       "    /* Turns off some styling */\n",
       "    progress {\n",
       "        /* gets rid of default border in Firefox and Opera. */\n",
       "        border: none;\n",
       "        /* Needs to be in here for Safari polyfill so background images work as expected. */\n",
       "        background-size: auto;\n",
       "    }\n",
       "    progress:not([value]), progress:not([value])::-webkit-progress-bar {\n",
       "        background: repeating-linear-gradient(45deg, #7e7e7e, #7e7e7e 10px, #5c5c5c 10px, #5c5c5c 20px);\n",
       "    }\n",
       "    .progress-bar-interrupted, .progress-bar-interrupted::-webkit-progress-bar {\n",
       "        background: #F44336;\n",
       "    }\n",
       "</style>\n"
      ],
      "text/plain": [
       "<IPython.core.display.HTML object>"
      ]
     },
     "metadata": {},
     "output_type": "display_data"
    },
    {
     "data": {
      "text/html": [
       "\n",
       "    <div>\n",
       "      <progress value='12000' class='' max='12000' style='width:300px; height:20px; vertical-align: middle;'></progress>\n",
       "      100.00% [12000/12000 00:07&lt;00:00 Sampling 4 chains, 0 divergences]\n",
       "    </div>\n",
       "    "
      ],
      "text/plain": [
       "<IPython.core.display.HTML object>"
      ]
     },
     "metadata": {},
     "output_type": "display_data"
    },
    {
     "name": "stderr",
     "output_type": "stream",
     "text": [
      "Sampling 4 chains for 2_000 tune and 1_000 draw iterations (8_000 + 4_000 draws total) took 15 seconds.\n"
     ]
    }
   ],
   "source": [
    "joj_ZTF_g_peak = joj_ZTF_g[\n",
    "    ((joj_ZTF_g[\"MJD\"] - 59723.94) / (1 + z) <= 20)\n",
    "    & ((joj_ZTF_g[\"MJD\"] - 59723.94) / (1 + z) >= -10)\n",
    "]\n",
    "joj_ZTF_r_peak = joj_ZTF_r[\n",
    "    ((joj_ZTF_r[\"MJD\"] - 59725.05) / (1 + z) <= 10)\n",
    "    & ((joj_ZTF_r[\"MJD\"] - 59725.05) / (1 + z) >= -10)\n",
    "]\n",
    "\n",
    "trace_peak_g = peak_poly_fit(\n",
    "    MJD=joj_ZTF_g_peak[\"MJD\"].values,\n",
    "    mag_obs=joj_ZTF_g_peak[\"mag\"].values,\n",
    "    mag_obs_unc=joj_ZTF_g_peak[\"mag_err_l\"].values,\n",
    "    z=z,\n",
    "    t_max_0=59723.94\n",
    ")\n",
    "trace_peak_r = peak_poly_fit(\n",
    "    MJD=joj_ZTF_r_peak[\"MJD\"].values,\n",
    "    mag_obs=joj_ZTF_r_peak[\"mag\"].values,\n",
    "    mag_obs_unc=joj_ZTF_r_peak[\"mag_err_l\"].values,\n",
    "    z=z,\n",
    "    t_max_0=59725.05\n",
    ")"
   ]
  },
  {
   "cell_type": "code",
   "execution_count": 73,
   "metadata": {},
   "outputs": [
    {
     "data": {
      "text/html": [
       "<div>\n",
       "<style scoped>\n",
       "    .dataframe tbody tr th:only-of-type {\n",
       "        vertical-align: middle;\n",
       "    }\n",
       "\n",
       "    .dataframe tbody tr th {\n",
       "        vertical-align: top;\n",
       "    }\n",
       "\n",
       "    .dataframe thead th {\n",
       "        text-align: right;\n",
       "    }\n",
       "</style>\n",
       "<table border=\"1\" class=\"dataframe\">\n",
       "  <thead>\n",
       "    <tr style=\"text-align: right;\">\n",
       "      <th></th>\n",
       "      <th>mean</th>\n",
       "      <th>sd</th>\n",
       "      <th>hdi_16%</th>\n",
       "      <th>hdi_84%</th>\n",
       "      <th>mcse_mean</th>\n",
       "      <th>mcse_sd</th>\n",
       "      <th>ess_bulk</th>\n",
       "      <th>ess_tail</th>\n",
       "      <th>r_hat</th>\n",
       "    </tr>\n",
       "  </thead>\n",
       "  <tbody>\n",
       "    <tr>\n",
       "      <th>t_max</th>\n",
       "      <td>59722.661634</td>\n",
       "      <td>0.205289</td>\n",
       "      <td>59722.460980</td>\n",
       "      <td>59722.862710</td>\n",
       "      <td>5.767030e-03</td>\n",
       "      <td>4.078850e-03</td>\n",
       "      <td>1274.843798</td>\n",
       "      <td>1348.634143</td>\n",
       "      <td>1.004785</td>\n",
       "    </tr>\n",
       "    <tr>\n",
       "      <th>a4</th>\n",
       "      <td>0.000007</td>\n",
       "      <td>0.000003</td>\n",
       "      <td>0.000004</td>\n",
       "      <td>0.000009</td>\n",
       "      <td>1.000000e-07</td>\n",
       "      <td>7.000000e-08</td>\n",
       "      <td>694.336269</td>\n",
       "      <td>845.762271</td>\n",
       "      <td>1.001603</td>\n",
       "    </tr>\n",
       "    <tr>\n",
       "      <th>a3</th>\n",
       "      <td>-0.000352</td>\n",
       "      <td>0.000083</td>\n",
       "      <td>-0.000432</td>\n",
       "      <td>-0.000260</td>\n",
       "      <td>3.280000e-06</td>\n",
       "      <td>2.320000e-06</td>\n",
       "      <td>643.765650</td>\n",
       "      <td>838.893911</td>\n",
       "      <td>1.002162</td>\n",
       "    </tr>\n",
       "    <tr>\n",
       "      <th>a2</th>\n",
       "      <td>0.008374</td>\n",
       "      <td>0.000660</td>\n",
       "      <td>0.007719</td>\n",
       "      <td>0.009082</td>\n",
       "      <td>2.587000e-05</td>\n",
       "      <td>1.833000e-05</td>\n",
       "      <td>645.416594</td>\n",
       "      <td>759.046110</td>\n",
       "      <td>1.003052</td>\n",
       "    </tr>\n",
       "    <tr>\n",
       "      <th>a0</th>\n",
       "      <td>15.813615</td>\n",
       "      <td>0.013765</td>\n",
       "      <td>15.799169</td>\n",
       "      <td>15.826212</td>\n",
       "      <td>4.625900e-04</td>\n",
       "      <td>3.272200e-04</td>\n",
       "      <td>887.074272</td>\n",
       "      <td>1456.519263</td>\n",
       "      <td>1.003191</td>\n",
       "    </tr>\n",
       "    <tr>\n",
       "      <th>delta_m_15</th>\n",
       "      <td>1.027408</td>\n",
       "      <td>0.028022</td>\n",
       "      <td>0.997629</td>\n",
       "      <td>1.052816</td>\n",
       "      <td>6.116500e-04</td>\n",
       "      <td>4.325600e-04</td>\n",
       "      <td>2099.280586</td>\n",
       "      <td>2338.405165</td>\n",
       "      <td>1.003443</td>\n",
       "    </tr>\n",
       "  </tbody>\n",
       "</table>\n",
       "</div>"
      ],
      "text/plain": [
       "                    mean        sd       hdi_16%       hdi_84%     mcse_mean  \\\n",
       "t_max       59722.661634  0.205289  59722.460980  59722.862710  5.767030e-03   \n",
       "a4              0.000007  0.000003      0.000004      0.000009  1.000000e-07   \n",
       "a3             -0.000352  0.000083     -0.000432     -0.000260  3.280000e-06   \n",
       "a2              0.008374  0.000660      0.007719      0.009082  2.587000e-05   \n",
       "a0             15.813615  0.013765     15.799169     15.826212  4.625900e-04   \n",
       "delta_m_15      1.027408  0.028022      0.997629      1.052816  6.116500e-04   \n",
       "\n",
       "                 mcse_sd     ess_bulk     ess_tail     r_hat  \n",
       "t_max       4.078850e-03  1274.843798  1348.634143  1.004785  \n",
       "a4          7.000000e-08   694.336269   845.762271  1.001603  \n",
       "a3          2.320000e-06   643.765650   838.893911  1.002162  \n",
       "a2          1.833000e-05   645.416594   759.046110  1.003052  \n",
       "a0          3.272200e-04   887.074272  1456.519263  1.003191  \n",
       "delta_m_15  4.325600e-04  2099.280586  2338.405165  1.003443  "
      ]
     },
     "execution_count": 73,
     "metadata": {},
     "output_type": "execute_result"
    }
   ],
   "source": [
    "summary_g_peak = az.summary(\n",
    "    trace_peak_g,\n",
    "    hdi_prob=0.68,\n",
    "    round_to=8,\n",
    "    var_names=[var for var in trace_peak_g.posterior.data_vars if not \"mag\" in var],\n",
    ")\n",
    "summary_pred_g_peak = az.summary(\n",
    "    trace_peak_g,\n",
    "    hdi_prob=0.68,\n",
    "    var_names=[var for var in trace_peak_g.posterior.data_vars if \"pred\" in var],\n",
    ")\n",
    "summary_g_peak"
   ]
  },
  {
   "cell_type": "code",
   "execution_count": 74,
   "metadata": {},
   "outputs": [
    {
     "data": {
      "text/html": [
       "<div>\n",
       "<style scoped>\n",
       "    .dataframe tbody tr th:only-of-type {\n",
       "        vertical-align: middle;\n",
       "    }\n",
       "\n",
       "    .dataframe tbody tr th {\n",
       "        vertical-align: top;\n",
       "    }\n",
       "\n",
       "    .dataframe thead th {\n",
       "        text-align: right;\n",
       "    }\n",
       "</style>\n",
       "<table border=\"1\" class=\"dataframe\">\n",
       "  <thead>\n",
       "    <tr style=\"text-align: right;\">\n",
       "      <th></th>\n",
       "      <th>mean</th>\n",
       "      <th>sd</th>\n",
       "      <th>hdi_16%</th>\n",
       "      <th>hdi_84%</th>\n",
       "      <th>mcse_mean</th>\n",
       "      <th>mcse_sd</th>\n",
       "      <th>ess_bulk</th>\n",
       "      <th>ess_tail</th>\n",
       "      <th>r_hat</th>\n",
       "    </tr>\n",
       "  </thead>\n",
       "  <tbody>\n",
       "    <tr>\n",
       "      <th>t_max</th>\n",
       "      <td>59725.540431</td>\n",
       "      <td>0.088424</td>\n",
       "      <td>59725.448616</td>\n",
       "      <td>59725.626504</td>\n",
       "      <td>2.367790e-03</td>\n",
       "      <td>1.674630e-03</td>\n",
       "      <td>1397.388251</td>\n",
       "      <td>1965.929586</td>\n",
       "      <td>1.001267</td>\n",
       "    </tr>\n",
       "    <tr>\n",
       "      <th>a4</th>\n",
       "      <td>-0.000022</td>\n",
       "      <td>0.000004</td>\n",
       "      <td>-0.000025</td>\n",
       "      <td>-0.000017</td>\n",
       "      <td>1.200000e-07</td>\n",
       "      <td>8.000000e-08</td>\n",
       "      <td>1243.532957</td>\n",
       "      <td>1466.532222</td>\n",
       "      <td>1.002297</td>\n",
       "    </tr>\n",
       "    <tr>\n",
       "      <th>a3</th>\n",
       "      <td>0.000041</td>\n",
       "      <td>0.000018</td>\n",
       "      <td>0.000024</td>\n",
       "      <td>0.000060</td>\n",
       "      <td>5.000000e-07</td>\n",
       "      <td>3.500000e-07</td>\n",
       "      <td>1291.018640</td>\n",
       "      <td>1575.562697</td>\n",
       "      <td>1.000605</td>\n",
       "    </tr>\n",
       "    <tr>\n",
       "      <th>a2</th>\n",
       "      <td>0.007768</td>\n",
       "      <td>0.000300</td>\n",
       "      <td>0.007480</td>\n",
       "      <td>0.008079</td>\n",
       "      <td>8.350000e-06</td>\n",
       "      <td>5.920000e-06</td>\n",
       "      <td>1287.947623</td>\n",
       "      <td>1510.014383</td>\n",
       "      <td>1.002489</td>\n",
       "    </tr>\n",
       "    <tr>\n",
       "      <th>a0</th>\n",
       "      <td>15.974079</td>\n",
       "      <td>0.003775</td>\n",
       "      <td>15.970315</td>\n",
       "      <td>15.977884</td>\n",
       "      <td>8.453000e-05</td>\n",
       "      <td>5.978000e-05</td>\n",
       "      <td>1997.503099</td>\n",
       "      <td>1907.499641</td>\n",
       "      <td>1.001107</td>\n",
       "    </tr>\n",
       "    <tr>\n",
       "      <th>delta_m_15</th>\n",
       "      <td>0.786670</td>\n",
       "      <td>0.109211</td>\n",
       "      <td>0.679728</td>\n",
       "      <td>0.893717</td>\n",
       "      <td>2.724960e-03</td>\n",
       "      <td>1.927190e-03</td>\n",
       "      <td>1605.706096</td>\n",
       "      <td>1988.624332</td>\n",
       "      <td>1.001392</td>\n",
       "    </tr>\n",
       "  </tbody>\n",
       "</table>\n",
       "</div>"
      ],
      "text/plain": [
       "                    mean        sd       hdi_16%       hdi_84%     mcse_mean  \\\n",
       "t_max       59725.540431  0.088424  59725.448616  59725.626504  2.367790e-03   \n",
       "a4             -0.000022  0.000004     -0.000025     -0.000017  1.200000e-07   \n",
       "a3              0.000041  0.000018      0.000024      0.000060  5.000000e-07   \n",
       "a2              0.007768  0.000300      0.007480      0.008079  8.350000e-06   \n",
       "a0             15.974079  0.003775     15.970315     15.977884  8.453000e-05   \n",
       "delta_m_15      0.786670  0.109211      0.679728      0.893717  2.724960e-03   \n",
       "\n",
       "                 mcse_sd     ess_bulk     ess_tail     r_hat  \n",
       "t_max       1.674630e-03  1397.388251  1965.929586  1.001267  \n",
       "a4          8.000000e-08  1243.532957  1466.532222  1.002297  \n",
       "a3          3.500000e-07  1291.018640  1575.562697  1.000605  \n",
       "a2          5.920000e-06  1287.947623  1510.014383  1.002489  \n",
       "a0          5.978000e-05  1997.503099  1907.499641  1.001107  \n",
       "delta_m_15  1.927190e-03  1605.706096  1988.624332  1.001392  "
      ]
     },
     "execution_count": 74,
     "metadata": {},
     "output_type": "execute_result"
    }
   ],
   "source": [
    "summary_r_peak = az.summary(\n",
    "    trace_peak_r,\n",
    "    hdi_prob=0.68,\n",
    "    round_to=8,\n",
    "    var_names=[var for var in trace_peak_r.posterior.data_vars if not \"mag\" in var],\n",
    ")\n",
    "summary_pred_r_peak = az.summary(\n",
    "    trace_peak_r,\n",
    "    hdi_prob=0.68,\n",
    "    var_names=[var for var in trace_peak_r.posterior.data_vars if \"pred\" in var],\n",
    ")\n",
    "summary_r_peak"
   ]
  },
  {
   "cell_type": "code",
   "execution_count": 75,
   "metadata": {},
   "outputs": [
    {
     "name": "stdout",
     "output_type": "stream",
     "text": [
      "M_g,max = -19.693 +/- 0.014\n",
      "M_r,max = -19.492 +/- 0.004\n"
     ]
    }
   ],
   "source": [
    "leff_g = 4722.74  # AA\n",
    "leff_r = 6339.61  # AA\n",
    "leff_i = 7886.13  # AA\n",
    "print(\n",
    "    \"M_g,max = {:.3f} +/- {:.3f}\".format(\n",
    "        summary_g_peak[\"mean\"].loc[\"a0\"] - calALambda(wv=leff_g, RV=3.1, EBV=ebv) - mu,\n",
    "        summary_g_peak[\"sd\"].loc[\"a0\"],\n",
    "    )\n",
    ")\n",
    "print(\n",
    "    \"M_r,max = {:.3f} +/- {:.3f}\".format(\n",
    "        summary_r_peak[\"mean\"].loc[\"a0\"] - calALambda(wv=leff_r, RV=3.1, EBV=ebv) - mu,\n",
    "        summary_r_peak[\"sd\"].loc[\"a0\"],\n",
    "    )\n",
    ")"
   ]
  },
  {
   "cell_type": "code",
   "execution_count": 81,
   "metadata": {},
   "outputs": [
    {
     "data": {
      "text/plain": [
       "<ErrorbarContainer object of 3 artists>"
      ]
     },
     "execution_count": 81,
     "metadata": {},
     "output_type": "execute_result"
    },
    {
     "data": {
      "image/png": "[encoded data removed]",
      "text/plain": [
       "<Figure size 576x576 with 2 Axes>"
      ]
     },
     "metadata": {
      "needs_background": "light"
     },
     "output_type": "display_data"
    }
   ],
   "source": [
    "fig, ax = plt.subplots(2, 1, figsize=(8, 8), sharex=True, constrained_layout=True)\n",
    "# pred_ZTF = summary_pred.loc[summary_.index[:100]]\n",
    "# pred_ATLAS = summary_pred.loc[summary_pred.index[100:]]\n",
    "ax[0].plot(\n",
    "    np.linspace(-20, 20, 100)[20:] + 59723.94,\n",
    "    summary_pred_g_peak[\"mean\"][20:],\n",
    "    color=\"k\",\n",
    ")\n",
    "ax[0].fill_between(\n",
    "    np.linspace(-20, 20, 100)[20:] + 59723.94,\n",
    "    summary_pred_g_peak[\"hdi_16%\"][20:],\n",
    "    summary_pred_g_peak[\"hdi_84%\"][20:],\n",
    "    color=\"0.5\",\n",
    "    alpha=0.5,\n",
    ")\n",
    "ax[0].errorbar(\n",
    "    joj_ZTF_g_peak[\"MJD\"].values,\n",
    "    joj_ZTF_g_peak[\"mag\"].values,\n",
    "    yerr=joj_ZTF_g_peak[\"mag_err_l\"].values,\n",
    "    fmt=\"o\",\n",
    ")\n",
    "\n",
    "ax[1].plot(\n",
    "    np.linspace(-20, 20, 100)[20:80] + 59725.05,\n",
    "    summary_pred_r_peak[\"mean\"][20:80],\n",
    "    color=\"k\",\n",
    ")\n",
    "ax[1].fill_between(\n",
    "    np.linspace(-20, 20, 100)[20:80] + 59725.05,\n",
    "    summary_pred_r_peak[\"hdi_16%\"][20:80],\n",
    "    summary_pred_r_peak[\"hdi_84%\"][20:80],\n",
    "    color=\"0.5\",\n",
    "    alpha=0.5,\n",
    ")\n",
    "ax[1].errorbar(\n",
    "    joj_ZTF_r_peak[\"MJD\"].values,\n",
    "    joj_ZTF_r_peak[\"mag\"].values,\n",
    "    yerr=joj_ZTF_r_peak[\"mag_err_l\"].values,\n",
    "    fmt=\"o\",\n",
    ")"
   ]
  },
  {
   "cell_type": "code",
   "execution_count": 14,
   "metadata": {},
   "outputs": [
    {
     "name": "stderr",
     "output_type": "stream",
     "text": [
      "Auto-assigning NUTS sampler...\n",
      "Initializing NUTS using jitter+adapt_diag...\n",
      "Multiprocess sampling (4 chains in 4 jobs)\n",
      "NUTS: [t_max, a4, a3, a2, a0]\n"
     ]
    },
    {
     "data": {
      "text/html": [
       "\n",
       "<style>\n",
       "    /* Turns off some styling */\n",
       "    progress {\n",
       "        /* gets rid of default border in Firefox and Opera. */\n",
       "        border: none;\n",
       "        /* Needs to be in here for Safari polyfill so background images work as expected. */\n",
       "        background-size: auto;\n",
       "    }\n",
       "    progress:not([value]), progress:not([value])::-webkit-progress-bar {\n",
       "        background: repeating-linear-gradient(45deg, #7e7e7e, #7e7e7e 10px, #5c5c5c 10px, #5c5c5c 20px);\n",
       "    }\n",
       "    .progress-bar-interrupted, .progress-bar-interrupted::-webkit-progress-bar {\n",
       "        background: #F44336;\n",
       "    }\n",
       "</style>\n"
      ],
      "text/plain": [
       "<IPython.core.display.HTML object>"
      ]
     },
     "metadata": {},
     "output_type": "display_data"
    },
    {
     "data": {
      "text/html": [
       "\n",
       "    <div>\n",
       "      <progress value='12000' class='' max='12000' style='width:300px; height:20px; vertical-align: middle;'></progress>\n",
       "      100.00% [12000/12000 00:04&lt;00:00 Sampling 4 chains, 0 divergences]\n",
       "    </div>\n",
       "    "
      ],
      "text/plain": [
       "<IPython.core.display.HTML object>"
      ]
     },
     "metadata": {},
     "output_type": "display_data"
    },
    {
     "name": "stderr",
     "output_type": "stream",
     "text": [
      "Sampling 4 chains for 2_000 tune and 1_000 draw iterations (8_000 + 4_000 draws total) took 16 seconds.\n"
     ]
    }
   ],
   "source": [
    "UCB_arg = ((joj_UCB[\"MJD\"] - 59723) / (1 + z) <= 20) & (\n",
    "    (joj_UCB[\"MJD\"] - 59723) / (1 + z) >= -15\n",
    ")\n",
    "\n",
    "trace_peak_B = peak_poly_fit(\n",
    "    MJD=joj_UCB[\"MJD\"][UCB_arg & ~np.isnan(joj_UCB[\"B\"])].values,\n",
    "    mag_obs=joj_UCB[\"B\"][UCB_arg & ~np.isnan(joj_UCB[\"B\"])].values,\n",
    "    mag_obs_unc=joj_UCB[\"EB\"][UCB_arg & ~np.isnan(joj_UCB[\"B\"])].values,\n",
    "    z=z,\n",
    "    t_max_0=59723,\n",
    ")"
   ]
  },
  {
   "cell_type": "code",
   "execution_count": 63,
   "metadata": {},
   "outputs": [
    {
     "name": "stderr",
     "output_type": "stream",
     "text": [
      "Auto-assigning NUTS sampler...\n",
      "Initializing NUTS using jitter+adapt_diag...\n",
      "Multiprocess sampling (4 chains in 4 jobs)\n",
      "NUTS: [t_max, a4, a3, a2, a0]\n"
     ]
    },
    {
     "data": {
      "text/html": [
       "\n",
       "<style>\n",
       "    /* Turns off some styling */\n",
       "    progress {\n",
       "        /* gets rid of default border in Firefox and Opera. */\n",
       "        border: none;\n",
       "        /* Needs to be in here for Safari polyfill so background images work as expected. */\n",
       "        background-size: auto;\n",
       "    }\n",
       "    progress:not([value]), progress:not([value])::-webkit-progress-bar {\n",
       "        background: repeating-linear-gradient(45deg, #7e7e7e, #7e7e7e 10px, #5c5c5c 10px, #5c5c5c 20px);\n",
       "    }\n",
       "    .progress-bar-interrupted, .progress-bar-interrupted::-webkit-progress-bar {\n",
       "        background: #F44336;\n",
       "    }\n",
       "</style>\n"
      ],
      "text/plain": [
       "<IPython.core.display.HTML object>"
      ]
     },
     "metadata": {},
     "output_type": "display_data"
    },
    {
     "data": {
      "text/html": [
       "\n",
       "    <div>\n",
       "      <progress value='12000' class='' max='12000' style='width:300px; height:20px; vertical-align: middle;'></progress>\n",
       "      100.00% [12000/12000 00:09&lt;00:00 Sampling 4 chains, 10 divergences]\n",
       "    </div>\n",
       "    "
      ],
      "text/plain": [
       "<IPython.core.display.HTML object>"
      ]
     },
     "metadata": {},
     "output_type": "display_data"
    },
    {
     "name": "stderr",
     "output_type": "stream",
     "text": [
      "Sampling 4 chains for 2_000 tune and 1_000 draw iterations (8_000 + 4_000 draws total) took 16 seconds.\n",
      "There were 4 divergences after tuning. Increase `target_accept` or reparameterize.\n",
      "There were 6 divergences after tuning. Increase `target_accept` or reparameterize.\n",
      "Auto-assigning NUTS sampler...\n",
      "Initializing NUTS using jitter+adapt_diag...\n",
      "Multiprocess sampling (4 chains in 4 jobs)\n",
      "NUTS: [t_max, a4, a3, a2, a0]\n"
     ]
    },
    {
     "data": {
      "text/html": [
       "\n",
       "<style>\n",
       "    /* Turns off some styling */\n",
       "    progress {\n",
       "        /* gets rid of default border in Firefox and Opera. */\n",
       "        border: none;\n",
       "        /* Needs to be in here for Safari polyfill so background images work as expected. */\n",
       "        background-size: auto;\n",
       "    }\n",
       "    progress:not([value]), progress:not([value])::-webkit-progress-bar {\n",
       "        background: repeating-linear-gradient(45deg, #7e7e7e, #7e7e7e 10px, #5c5c5c 10px, #5c5c5c 20px);\n",
       "    }\n",
       "    .progress-bar-interrupted, .progress-bar-interrupted::-webkit-progress-bar {\n",
       "        background: #F44336;\n",
       "    }\n",
       "</style>\n"
      ],
      "text/plain": [
       "<IPython.core.display.HTML object>"
      ]
     },
     "metadata": {},
     "output_type": "display_data"
    },
    {
     "data": {
      "text/html": [
       "\n",
       "    <div>\n",
       "      <progress value='12000' class='' max='12000' style='width:300px; height:20px; vertical-align: middle;'></progress>\n",
       "      100.00% [12000/12000 00:06&lt;00:00 Sampling 4 chains, 0 divergences]\n",
       "    </div>\n",
       "    "
      ],
      "text/plain": [
       "<IPython.core.display.HTML object>"
      ]
     },
     "metadata": {},
     "output_type": "display_data"
    },
    {
     "name": "stderr",
     "output_type": "stream",
     "text": [
      "Sampling 4 chains for 2_000 tune and 1_000 draw iterations (8_000 + 4_000 draws total) took 14 seconds.\n",
      "Auto-assigning NUTS sampler...\n",
      "Initializing NUTS using jitter+adapt_diag...\n",
      "Multiprocess sampling (4 chains in 4 jobs)\n",
      "NUTS: [t_max, a4, a3, a2, a0]\n"
     ]
    },
    {
     "data": {
      "text/html": [
       "\n",
       "<style>\n",
       "    /* Turns off some styling */\n",
       "    progress {\n",
       "        /* gets rid of default border in Firefox and Opera. */\n",
       "        border: none;\n",
       "        /* Needs to be in here for Safari polyfill so background images work as expected. */\n",
       "        background-size: auto;\n",
       "    }\n",
       "    progress:not([value]), progress:not([value])::-webkit-progress-bar {\n",
       "        background: repeating-linear-gradient(45deg, #7e7e7e, #7e7e7e 10px, #5c5c5c 10px, #5c5c5c 20px);\n",
       "    }\n",
       "    .progress-bar-interrupted, .progress-bar-interrupted::-webkit-progress-bar {\n",
       "        background: #F44336;\n",
       "    }\n",
       "</style>\n"
      ],
      "text/plain": [
       "<IPython.core.display.HTML object>"
      ]
     },
     "metadata": {},
     "output_type": "display_data"
    },
    {
     "data": {
      "text/html": [
       "\n",
       "    <div>\n",
       "      <progress value='12000' class='' max='12000' style='width:300px; height:20px; vertical-align: middle;'></progress>\n",
       "      100.00% [12000/12000 00:06&lt;00:00 Sampling 4 chains, 0 divergences]\n",
       "    </div>\n",
       "    "
      ],
      "text/plain": [
       "<IPython.core.display.HTML object>"
      ]
     },
     "metadata": {},
     "output_type": "display_data"
    },
    {
     "name": "stderr",
     "output_type": "stream",
     "text": [
      "Sampling 4 chains for 2_000 tune and 1_000 draw iterations (8_000 + 4_000 draws total) took 13 seconds.\n",
      "Auto-assigning NUTS sampler...\n",
      "Initializing NUTS using jitter+adapt_diag...\n",
      "Multiprocess sampling (4 chains in 4 jobs)\n",
      "NUTS: [t_max, a4, a3, a2, a0]\n"
     ]
    },
    {
     "data": {
      "text/html": [
       "\n",
       "<style>\n",
       "    /* Turns off some styling */\n",
       "    progress {\n",
       "        /* gets rid of default border in Firefox and Opera. */\n",
       "        border: none;\n",
       "        /* Needs to be in here for Safari polyfill so background images work as expected. */\n",
       "        background-size: auto;\n",
       "    }\n",
       "    progress:not([value]), progress:not([value])::-webkit-progress-bar {\n",
       "        background: repeating-linear-gradient(45deg, #7e7e7e, #7e7e7e 10px, #5c5c5c 10px, #5c5c5c 20px);\n",
       "    }\n",
       "    .progress-bar-interrupted, .progress-bar-interrupted::-webkit-progress-bar {\n",
       "        background: #F44336;\n",
       "    }\n",
       "</style>\n"
      ],
      "text/plain": [
       "<IPython.core.display.HTML object>"
      ]
     },
     "metadata": {},
     "output_type": "display_data"
    },
    {
     "data": {
      "text/html": [
       "\n",
       "    <div>\n",
       "      <progress value='12000' class='' max='12000' style='width:300px; height:20px; vertical-align: middle;'></progress>\n",
       "      100.00% [12000/12000 00:15&lt;00:00 Sampling 4 chains, 418 divergences]\n",
       "    </div>\n",
       "    "
      ],
      "text/plain": [
       "<IPython.core.display.HTML object>"
      ]
     },
     "metadata": {},
     "output_type": "display_data"
    },
    {
     "name": "stderr",
     "output_type": "stream",
     "text": [
      "Sampling 4 chains for 2_000 tune and 1_000 draw iterations (8_000 + 4_000 draws total) took 23 seconds.\n",
      "There were 418 divergences after tuning. Increase `target_accept` or reparameterize.\n",
      "The acceptance probability does not match the target. It is 0.1249, but should be close to 0.8. Try to increase the number of tuning steps.\n"
     ]
    }
   ],
   "source": [
    "UCB_arg = ((joj_UCB[\"MJD\"] - 59723) / (1 + z) <= 15) & (\n",
    "    (joj_UCB[\"MJD\"] - 59723) / (1 + z) >= -15\n",
    ")\n",
    "\n",
    "trace_peak_V = peak_poly_fit(\n",
    "    MJD=joj_UCB[\"MJD\"][UCB_arg & ~np.isnan(joj_UCB[\"V\"])].values,\n",
    "    mag_obs=joj_UCB[\"V\"][UCB_arg & ~np.isnan(joj_UCB[\"V\"])].values,\n",
    "    mag_obs_unc=joj_UCB[\"EV\"][UCB_arg & ~np.isnan(joj_UCB[\"V\"])].values,\n",
    "    z=z,\n",
    "    t_max_0=59725,\n",
    ")\n",
    "trace_peak_R = peak_poly_fit(\n",
    "    MJD=joj_UCB[\"MJD\"][UCB_arg & ~np.isnan(joj_UCB[\"R\"])].values,\n",
    "    mag_obs=joj_UCB[\"R\"][UCB_arg & ~np.isnan(joj_UCB[\"R\"])].values,\n",
    "    mag_obs_unc=joj_UCB[\"ER\"][UCB_arg & ~np.isnan(joj_UCB[\"R\"])].values,\n",
    "    z=z,\n",
    "    t_max_0=59725,\n",
    ")"
   ]
  },
  {
   "cell_type": "code",
   "execution_count": 87,
   "metadata": {},
   "outputs": [
    {
     "name": "stderr",
     "output_type": "stream",
     "text": [
      "Auto-assigning NUTS sampler...\n",
      "Initializing NUTS using jitter+adapt_diag...\n",
      "Multiprocess sampling (4 chains in 4 jobs)\n",
      "NUTS: [t_max, a4, a3, a2, a0]\n"
     ]
    },
    {
     "data": {
      "text/html": [
       "\n",
       "<style>\n",
       "    /* Turns off some styling */\n",
       "    progress {\n",
       "        /* gets rid of default border in Firefox and Opera. */\n",
       "        border: none;\n",
       "        /* Needs to be in here for Safari polyfill so background images work as expected. */\n",
       "        background-size: auto;\n",
       "    }\n",
       "    progress:not([value]), progress:not([value])::-webkit-progress-bar {\n",
       "        background: repeating-linear-gradient(45deg, #7e7e7e, #7e7e7e 10px, #5c5c5c 10px, #5c5c5c 20px);\n",
       "    }\n",
       "    .progress-bar-interrupted, .progress-bar-interrupted::-webkit-progress-bar {\n",
       "        background: #F44336;\n",
       "    }\n",
       "</style>\n"
      ],
      "text/plain": [
       "<IPython.core.display.HTML object>"
      ]
     },
     "metadata": {},
     "output_type": "display_data"
    },
    {
     "data": {
      "text/html": [
       "\n",
       "    <div>\n",
       "      <progress value='12000' class='' max='12000' style='width:300px; height:20px; vertical-align: middle;'></progress>\n",
       "      100.00% [12000/12000 00:09&lt;00:00 Sampling 4 chains, 0 divergences]\n",
       "    </div>\n",
       "    "
      ],
      "text/plain": [
       "<IPython.core.display.HTML object>"
      ]
     },
     "metadata": {},
     "output_type": "display_data"
    },
    {
     "name": "stderr",
     "output_type": "stream",
     "text": [
      "Sampling 4 chains for 2_000 tune and 1_000 draw iterations (8_000 + 4_000 draws total) took 17 seconds.\n",
      "The acceptance probability does not match the target. It is 0.8856, but should be close to 0.8. Try to increase the number of tuning steps.\n"
     ]
    }
   ],
   "source": [
    "UCB_arg = ((joj_UCB[\"MJD\"] - 59720) / (1 + z) <= 20) & (\n",
    "    (joj_UCB[\"MJD\"] - 59720) / (1 + z) >= -10\n",
    ")\n",
    "trace_peak_I = peak_poly_fit(\n",
    "    MJD=joj_UCB[\"MJD\"][UCB_arg & ~np.isnan(joj_UCB[\"I\"])].values,\n",
    "    mag_obs=joj_UCB[\"I\"][UCB_arg & ~np.isnan(joj_UCB[\"I\"])].values,\n",
    "    mag_obs_unc=joj_UCB[\"EI\"][UCB_arg & ~np.isnan(joj_UCB[\"I\"])].values,\n",
    "    z=z,\n",
    "    t_max_0=59720,\n",
    ")"
   ]
  },
  {
   "cell_type": "code",
   "execution_count": 15,
   "metadata": {},
   "outputs": [
    {
     "data": {
      "text/html": [
       "<div>\n",
       "<style scoped>\n",
       "    .dataframe tbody tr th:only-of-type {\n",
       "        vertical-align: middle;\n",
       "    }\n",
       "\n",
       "    .dataframe tbody tr th {\n",
       "        vertical-align: top;\n",
       "    }\n",
       "\n",
       "    .dataframe thead th {\n",
       "        text-align: right;\n",
       "    }\n",
       "</style>\n",
       "<table border=\"1\" class=\"dataframe\">\n",
       "  <thead>\n",
       "    <tr style=\"text-align: right;\">\n",
       "      <th></th>\n",
       "      <th>mean</th>\n",
       "      <th>sd</th>\n",
       "      <th>hdi_16%</th>\n",
       "      <th>hdi_84%</th>\n",
       "      <th>mcse_mean</th>\n",
       "      <th>mcse_sd</th>\n",
       "      <th>ess_bulk</th>\n",
       "      <th>ess_tail</th>\n",
       "      <th>r_hat</th>\n",
       "    </tr>\n",
       "  </thead>\n",
       "  <tbody>\n",
       "    <tr>\n",
       "      <th>t_max</th>\n",
       "      <td>59722.712764</td>\n",
       "      <td>0.239369</td>\n",
       "      <td>59722.438449</td>\n",
       "      <td>59722.916553</td>\n",
       "      <td>5.922250e-03</td>\n",
       "      <td>4.188410e-03</td>\n",
       "      <td>1634.791423</td>\n",
       "      <td>2345.348112</td>\n",
       "      <td>1.004203</td>\n",
       "    </tr>\n",
       "    <tr>\n",
       "      <th>a4</th>\n",
       "      <td>0.000011</td>\n",
       "      <td>0.000005</td>\n",
       "      <td>0.000006</td>\n",
       "      <td>0.000016</td>\n",
       "      <td>1.300000e-07</td>\n",
       "      <td>9.000000e-08</td>\n",
       "      <td>1465.031826</td>\n",
       "      <td>2046.369214</td>\n",
       "      <td>1.003174</td>\n",
       "    </tr>\n",
       "    <tr>\n",
       "      <th>a3</th>\n",
       "      <td>-0.000370</td>\n",
       "      <td>0.000077</td>\n",
       "      <td>-0.000440</td>\n",
       "      <td>-0.000288</td>\n",
       "      <td>2.160000e-06</td>\n",
       "      <td>1.530000e-06</td>\n",
       "      <td>1279.508709</td>\n",
       "      <td>1862.061082</td>\n",
       "      <td>1.004425</td>\n",
       "    </tr>\n",
       "    <tr>\n",
       "      <th>a2</th>\n",
       "      <td>0.009807</td>\n",
       "      <td>0.000176</td>\n",
       "      <td>0.009770</td>\n",
       "      <td>0.010000</td>\n",
       "      <td>3.950000e-06</td>\n",
       "      <td>2.790000e-06</td>\n",
       "      <td>1792.482259</td>\n",
       "      <td>1673.166714</td>\n",
       "      <td>1.001206</td>\n",
       "    </tr>\n",
       "    <tr>\n",
       "      <th>a0</th>\n",
       "      <td>16.067718</td>\n",
       "      <td>0.010721</td>\n",
       "      <td>16.057439</td>\n",
       "      <td>16.078503</td>\n",
       "      <td>2.384000e-04</td>\n",
       "      <td>1.686000e-04</td>\n",
       "      <td>2029.185319</td>\n",
       "      <td>2144.751622</td>\n",
       "      <td>1.002089</td>\n",
       "    </tr>\n",
       "    <tr>\n",
       "      <th>delta_m_15</th>\n",
       "      <td>1.502984</td>\n",
       "      <td>0.106647</td>\n",
       "      <td>1.397230</td>\n",
       "      <td>1.603590</td>\n",
       "      <td>1.871380e-03</td>\n",
       "      <td>1.323390e-03</td>\n",
       "      <td>3203.757923</td>\n",
       "      <td>3304.583643</td>\n",
       "      <td>1.002293</td>\n",
       "    </tr>\n",
       "  </tbody>\n",
       "</table>\n",
       "</div>"
      ],
      "text/plain": [
       "                    mean        sd       hdi_16%       hdi_84%     mcse_mean  \\\n",
       "t_max       59722.712764  0.239369  59722.438449  59722.916553  5.922250e-03   \n",
       "a4              0.000011  0.000005      0.000006      0.000016  1.300000e-07   \n",
       "a3             -0.000370  0.000077     -0.000440     -0.000288  2.160000e-06   \n",
       "a2              0.009807  0.000176      0.009770      0.010000  3.950000e-06   \n",
       "a0             16.067718  0.010721     16.057439     16.078503  2.384000e-04   \n",
       "delta_m_15      1.502984  0.106647      1.397230      1.603590  1.871380e-03   \n",
       "\n",
       "                 mcse_sd     ess_bulk     ess_tail     r_hat  \n",
       "t_max       4.188410e-03  1634.791423  2345.348112  1.004203  \n",
       "a4          9.000000e-08  1465.031826  2046.369214  1.003174  \n",
       "a3          1.530000e-06  1279.508709  1862.061082  1.004425  \n",
       "a2          2.790000e-06  1792.482259  1673.166714  1.001206  \n",
       "a0          1.686000e-04  2029.185319  2144.751622  1.002089  \n",
       "delta_m_15  1.323390e-03  3203.757923  3304.583643  1.002293  "
      ]
     },
     "execution_count": 15,
     "metadata": {},
     "output_type": "execute_result"
    }
   ],
   "source": [
    "summary_B_peak = az.summary(\n",
    "    trace_peak_B,\n",
    "    hdi_prob=0.68,\n",
    "    round_to=8,\n",
    "    var_names=[var for var in trace_peak_B.posterior.data_vars if not \"mag\" in var],\n",
    ")\n",
    "summary_pred_B_peak = az.summary(\n",
    "    trace_peak_B,\n",
    "    hdi_prob=0.68,\n",
    "    var_names=[var for var in trace_peak_B.posterior.data_vars if \"pred\" in var],\n",
    ")\n",
    "summary_B_peak"
   ]
  },
  {
   "cell_type": "code",
   "execution_count": 21,
   "metadata": {},
   "outputs": [
    {
     "data": {
      "text/plain": [
       "(59710.0, 59740.0)"
      ]
     },
     "execution_count": 21,
     "metadata": {},
     "output_type": "execute_result"
    },
    {
     "data": {
      "image/png": "[encoded data removed]",
      "text/plain": [
       "<Figure size 600x400 with 1 Axes>"
      ]
     },
     "metadata": {},
     "output_type": "display_data"
    }
   ],
   "source": [
    "fig, ax = plt.subplots(figsize=(6, 4), sharex=True, constrained_layout=True)\n",
    "# pred_ZTF = summary_pred.loc[summary_.index[:100]]\n",
    "# pred_ATLAS = summary_pred.loc[summary_pred.index[100:]]\n",
    "ax.plot(\n",
    "    np.linspace(-20, 20, 100) + 59723,\n",
    "    summary_pred_B_peak[\"mean\"],\n",
    "    color=\"k\",\n",
    ")\n",
    "ax.fill_between(\n",
    "    np.linspace(-20, 20, 100) + 59723,\n",
    "    summary_pred_B_peak[\"hdi_16%\"],\n",
    "    summary_pred_B_peak[\"hdi_84%\"],\n",
    "    color=\"0.5\",\n",
    "    alpha=0.5,\n",
    ")\n",
    "ax.errorbar(\n",
    "    joj_UCB[\"MJD\"].values,\n",
    "    joj_UCB[\"B\"].values,\n",
    "    yerr=joj_UCB[\"EB\"].values,\n",
    "    fmt=\"o\",\n",
    ")\n",
    "\n",
    "ax.set_ylim(18., 16.)\n",
    "ax.set_xlim(59710, 59740)"
   ]
  },
  {
   "cell_type": "code",
   "execution_count": 65,
   "metadata": {},
   "outputs": [
    {
     "data": {
      "text/html": [
       "<div>\n",
       "<style scoped>\n",
       "    .dataframe tbody tr th:only-of-type {\n",
       "        vertical-align: middle;\n",
       "    }\n",
       "\n",
       "    .dataframe tbody tr th {\n",
       "        vertical-align: top;\n",
       "    }\n",
       "\n",
       "    .dataframe thead th {\n",
       "        text-align: right;\n",
       "    }\n",
       "</style>\n",
       "<table border=\"1\" class=\"dataframe\">\n",
       "  <thead>\n",
       "    <tr style=\"text-align: right;\">\n",
       "      <th></th>\n",
       "      <th>mean</th>\n",
       "      <th>sd</th>\n",
       "      <th>hdi_16%</th>\n",
       "      <th>hdi_84%</th>\n",
       "      <th>mcse_mean</th>\n",
       "      <th>mcse_sd</th>\n",
       "      <th>ess_bulk</th>\n",
       "      <th>ess_tail</th>\n",
       "      <th>r_hat</th>\n",
       "    </tr>\n",
       "  </thead>\n",
       "  <tbody>\n",
       "    <tr>\n",
       "      <th>t_max</th>\n",
       "      <td>5.972488e+04</td>\n",
       "      <td>0.276897</td>\n",
       "      <td>59724.581013</td>\n",
       "      <td>59725.127671</td>\n",
       "      <td>6.400000e-03</td>\n",
       "      <td>4.526190e-03</td>\n",
       "      <td>1882.703610</td>\n",
       "      <td>2296.620200</td>\n",
       "      <td>1.001352</td>\n",
       "    </tr>\n",
       "    <tr>\n",
       "      <th>a4</th>\n",
       "      <td>9.600000e-07</td>\n",
       "      <td>0.000005</td>\n",
       "      <td>-0.000004</td>\n",
       "      <td>0.000006</td>\n",
       "      <td>1.200000e-07</td>\n",
       "      <td>8.000000e-08</td>\n",
       "      <td>1743.408514</td>\n",
       "      <td>1856.643554</td>\n",
       "      <td>1.003055</td>\n",
       "    </tr>\n",
       "    <tr>\n",
       "      <th>a3</th>\n",
       "      <td>-1.371100e-04</td>\n",
       "      <td>0.000047</td>\n",
       "      <td>-0.000185</td>\n",
       "      <td>-0.000094</td>\n",
       "      <td>1.120000e-06</td>\n",
       "      <td>7.900000e-07</td>\n",
       "      <td>1822.447190</td>\n",
       "      <td>2019.021413</td>\n",
       "      <td>1.002155</td>\n",
       "    </tr>\n",
       "    <tr>\n",
       "      <th>a2</th>\n",
       "      <td>5.826600e-03</td>\n",
       "      <td>0.000548</td>\n",
       "      <td>0.005346</td>\n",
       "      <td>0.006455</td>\n",
       "      <td>1.319000e-05</td>\n",
       "      <td>9.360000e-06</td>\n",
       "      <td>1727.645157</td>\n",
       "      <td>1849.436860</td>\n",
       "      <td>1.003626</td>\n",
       "    </tr>\n",
       "    <tr>\n",
       "      <th>a0</th>\n",
       "      <td>1.594447e+01</td>\n",
       "      <td>0.009313</td>\n",
       "      <td>15.936498</td>\n",
       "      <td>15.954907</td>\n",
       "      <td>1.910200e-04</td>\n",
       "      <td>1.350900e-04</td>\n",
       "      <td>2373.703515</td>\n",
       "      <td>2614.801452</td>\n",
       "      <td>1.001324</td>\n",
       "    </tr>\n",
       "    <tr>\n",
       "      <th>delta_m_15</th>\n",
       "      <td>8.968730e-01</td>\n",
       "      <td>0.255879</td>\n",
       "      <td>0.634846</td>\n",
       "      <td>1.122756</td>\n",
       "      <td>6.327330e-03</td>\n",
       "      <td>4.499930e-03</td>\n",
       "      <td>1644.558890</td>\n",
       "      <td>1860.429668</td>\n",
       "      <td>1.002175</td>\n",
       "    </tr>\n",
       "  </tbody>\n",
       "</table>\n",
       "</div>"
      ],
      "text/plain": [
       "                    mean        sd       hdi_16%       hdi_84%     mcse_mean  \\\n",
       "t_max       5.972488e+04  0.276897  59724.581013  59725.127671  6.400000e-03   \n",
       "a4          9.600000e-07  0.000005     -0.000004      0.000006  1.200000e-07   \n",
       "a3         -1.371100e-04  0.000047     -0.000185     -0.000094  1.120000e-06   \n",
       "a2          5.826600e-03  0.000548      0.005346      0.006455  1.319000e-05   \n",
       "a0          1.594447e+01  0.009313     15.936498     15.954907  1.910200e-04   \n",
       "delta_m_15  8.968730e-01  0.255879      0.634846      1.122756  6.327330e-03   \n",
       "\n",
       "                 mcse_sd     ess_bulk     ess_tail     r_hat  \n",
       "t_max       4.526190e-03  1882.703610  2296.620200  1.001352  \n",
       "a4          8.000000e-08  1743.408514  1856.643554  1.003055  \n",
       "a3          7.900000e-07  1822.447190  2019.021413  1.002155  \n",
       "a2          9.360000e-06  1727.645157  1849.436860  1.003626  \n",
       "a0          1.350900e-04  2373.703515  2614.801452  1.001324  \n",
       "delta_m_15  4.499930e-03  1644.558890  1860.429668  1.002175  "
      ]
     },
     "execution_count": 65,
     "metadata": {},
     "output_type": "execute_result"
    }
   ],
   "source": [
    "summary_V_peak = az.summary(\n",
    "    trace_peak_V,\n",
    "    hdi_prob=0.68,\n",
    "    round_to=8,\n",
    "    var_names=[var for var in trace_peak_V.posterior.data_vars if not \"mag\" in var],\n",
    ")\n",
    "summary_pred_V_peak = az.summary(\n",
    "    trace_peak_V,\n",
    "    hdi_prob=0.68,\n",
    "    var_names=[var for var in trace_peak_V.posterior.data_vars if \"pred\" in var],\n",
    ")\n",
    "summary_V_peak"
   ]
  },
  {
   "cell_type": "code",
   "execution_count": 66,
   "metadata": {},
   "outputs": [
    {
     "data": {
      "text/html": [
       "<div>\n",
       "<style scoped>\n",
       "    .dataframe tbody tr th:only-of-type {\n",
       "        vertical-align: middle;\n",
       "    }\n",
       "\n",
       "    .dataframe tbody tr th {\n",
       "        vertical-align: top;\n",
       "    }\n",
       "\n",
       "    .dataframe thead th {\n",
       "        text-align: right;\n",
       "    }\n",
       "</style>\n",
       "<table border=\"1\" class=\"dataframe\">\n",
       "  <thead>\n",
       "    <tr style=\"text-align: right;\">\n",
       "      <th></th>\n",
       "      <th>mean</th>\n",
       "      <th>sd</th>\n",
       "      <th>hdi_16%</th>\n",
       "      <th>hdi_84%</th>\n",
       "      <th>mcse_mean</th>\n",
       "      <th>mcse_sd</th>\n",
       "      <th>ess_bulk</th>\n",
       "      <th>ess_tail</th>\n",
       "      <th>r_hat</th>\n",
       "    </tr>\n",
       "  </thead>\n",
       "  <tbody>\n",
       "    <tr>\n",
       "      <th>t_max</th>\n",
       "      <td>59724.606989</td>\n",
       "      <td>0.276097</td>\n",
       "      <td>5.972429e+04</td>\n",
       "      <td>59724.835960</td>\n",
       "      <td>6.523710e-03</td>\n",
       "      <td>4.613710e-03</td>\n",
       "      <td>1790.841283</td>\n",
       "      <td>1788.046197</td>\n",
       "      <td>1.001875</td>\n",
       "    </tr>\n",
       "    <tr>\n",
       "      <th>a4</th>\n",
       "      <td>0.000005</td>\n",
       "      <td>0.000004</td>\n",
       "      <td>5.700000e-07</td>\n",
       "      <td>0.000009</td>\n",
       "      <td>1.000000e-07</td>\n",
       "      <td>7.000000e-08</td>\n",
       "      <td>1833.266251</td>\n",
       "      <td>1994.464717</td>\n",
       "      <td>1.001336</td>\n",
       "    </tr>\n",
       "    <tr>\n",
       "      <th>a3</th>\n",
       "      <td>-0.000155</td>\n",
       "      <td>0.000043</td>\n",
       "      <td>-1.953300e-04</td>\n",
       "      <td>-0.000113</td>\n",
       "      <td>1.020000e-06</td>\n",
       "      <td>7.200000e-07</td>\n",
       "      <td>1784.269789</td>\n",
       "      <td>1739.482037</td>\n",
       "      <td>1.001070</td>\n",
       "    </tr>\n",
       "    <tr>\n",
       "      <th>a2</th>\n",
       "      <td>0.005585</td>\n",
       "      <td>0.000512</td>\n",
       "      <td>5.091750e-03</td>\n",
       "      <td>0.006111</td>\n",
       "      <td>1.226000e-05</td>\n",
       "      <td>8.760000e-06</td>\n",
       "      <td>1749.488090</td>\n",
       "      <td>1734.900328</td>\n",
       "      <td>1.001828</td>\n",
       "    </tr>\n",
       "    <tr>\n",
       "      <th>a0</th>\n",
       "      <td>15.970660</td>\n",
       "      <td>0.008630</td>\n",
       "      <td>1.596260e+01</td>\n",
       "      <td>15.979611</td>\n",
       "      <td>1.832800e-04</td>\n",
       "      <td>1.296200e-04</td>\n",
       "      <td>2256.013632</td>\n",
       "      <td>2095.221092</td>\n",
       "      <td>1.001088</td>\n",
       "    </tr>\n",
       "    <tr>\n",
       "      <th>delta_m_15</th>\n",
       "      <td>0.982256</td>\n",
       "      <td>0.196598</td>\n",
       "      <td>7.555014e-01</td>\n",
       "      <td>1.129156</td>\n",
       "      <td>4.831100e-03</td>\n",
       "      <td>3.516670e-03</td>\n",
       "      <td>1716.936827</td>\n",
       "      <td>1623.168359</td>\n",
       "      <td>1.001819</td>\n",
       "    </tr>\n",
       "  </tbody>\n",
       "</table>\n",
       "</div>"
      ],
      "text/plain": [
       "                    mean        sd       hdi_16%       hdi_84%     mcse_mean  \\\n",
       "t_max       59724.606989  0.276097  5.972429e+04  59724.835960  6.523710e-03   \n",
       "a4              0.000005  0.000004  5.700000e-07      0.000009  1.000000e-07   \n",
       "a3             -0.000155  0.000043 -1.953300e-04     -0.000113  1.020000e-06   \n",
       "a2              0.005585  0.000512  5.091750e-03      0.006111  1.226000e-05   \n",
       "a0             15.970660  0.008630  1.596260e+01     15.979611  1.832800e-04   \n",
       "delta_m_15      0.982256  0.196598  7.555014e-01      1.129156  4.831100e-03   \n",
       "\n",
       "                 mcse_sd     ess_bulk     ess_tail     r_hat  \n",
       "t_max       4.613710e-03  1790.841283  1788.046197  1.001875  \n",
       "a4          7.000000e-08  1833.266251  1994.464717  1.001336  \n",
       "a3          7.200000e-07  1784.269789  1739.482037  1.001070  \n",
       "a2          8.760000e-06  1749.488090  1734.900328  1.001828  \n",
       "a0          1.296200e-04  2256.013632  2095.221092  1.001088  \n",
       "delta_m_15  3.516670e-03  1716.936827  1623.168359  1.001819  "
      ]
     },
     "execution_count": 66,
     "metadata": {},
     "output_type": "execute_result"
    }
   ],
   "source": [
    "summary_R_peak = az.summary(\n",
    "    trace_peak_R,\n",
    "    hdi_prob=0.68,\n",
    "    round_to=8,\n",
    "    var_names=[var for var in trace_peak_R.posterior.data_vars if not \"mag\" in var],\n",
    ")\n",
    "summary_pred_R_peak = az.summary(\n",
    "    trace_peak_R,\n",
    "    hdi_prob=0.68,\n",
    "    var_names=[var for var in trace_peak_R.posterior.data_vars if \"pred\" in var],\n",
    ")\n",
    "summary_R_peak"
   ]
  },
  {
   "cell_type": "code",
   "execution_count": 88,
   "metadata": {},
   "outputs": [
    {
     "data": {
      "text/html": [
       "<div>\n",
       "<style scoped>\n",
       "    .dataframe tbody tr th:only-of-type {\n",
       "        vertical-align: middle;\n",
       "    }\n",
       "\n",
       "    .dataframe tbody tr th {\n",
       "        vertical-align: top;\n",
       "    }\n",
       "\n",
       "    .dataframe thead th {\n",
       "        text-align: right;\n",
       "    }\n",
       "</style>\n",
       "<table border=\"1\" class=\"dataframe\">\n",
       "  <thead>\n",
       "    <tr style=\"text-align: right;\">\n",
       "      <th></th>\n",
       "      <th>mean</th>\n",
       "      <th>sd</th>\n",
       "      <th>hdi_16%</th>\n",
       "      <th>hdi_84%</th>\n",
       "      <th>mcse_mean</th>\n",
       "      <th>mcse_sd</th>\n",
       "      <th>ess_bulk</th>\n",
       "      <th>ess_tail</th>\n",
       "      <th>r_hat</th>\n",
       "    </tr>\n",
       "  </thead>\n",
       "  <tbody>\n",
       "    <tr>\n",
       "      <th>t_max</th>\n",
       "      <td>59720.728312</td>\n",
       "      <td>0.273003</td>\n",
       "      <td>59720.415720</td>\n",
       "      <td>59720.952762</td>\n",
       "      <td>7.030480e-03</td>\n",
       "      <td>4.972270e-03</td>\n",
       "      <td>1531.528722</td>\n",
       "      <td>1541.442524</td>\n",
       "      <td>1.002539</td>\n",
       "    </tr>\n",
       "    <tr>\n",
       "      <th>a4</th>\n",
       "      <td>0.000015</td>\n",
       "      <td>0.000004</td>\n",
       "      <td>0.000012</td>\n",
       "      <td>0.000020</td>\n",
       "      <td>1.100000e-07</td>\n",
       "      <td>8.000000e-08</td>\n",
       "      <td>1328.898420</td>\n",
       "      <td>1297.457157</td>\n",
       "      <td>1.001338</td>\n",
       "    </tr>\n",
       "    <tr>\n",
       "      <th>a3</th>\n",
       "      <td>-0.000649</td>\n",
       "      <td>0.000086</td>\n",
       "      <td>-0.000747</td>\n",
       "      <td>-0.000577</td>\n",
       "      <td>2.590000e-06</td>\n",
       "      <td>1.830000e-06</td>\n",
       "      <td>1136.331139</td>\n",
       "      <td>1104.025693</td>\n",
       "      <td>1.001769</td>\n",
       "    </tr>\n",
       "    <tr>\n",
       "      <th>a2</th>\n",
       "      <td>0.009282</td>\n",
       "      <td>0.000519</td>\n",
       "      <td>0.009101</td>\n",
       "      <td>0.009997</td>\n",
       "      <td>1.462000e-05</td>\n",
       "      <td>1.034000e-05</td>\n",
       "      <td>1177.434405</td>\n",
       "      <td>1309.203476</td>\n",
       "      <td>1.000741</td>\n",
       "    </tr>\n",
       "    <tr>\n",
       "      <th>a0</th>\n",
       "      <td>16.211146</td>\n",
       "      <td>0.011400</td>\n",
       "      <td>16.199104</td>\n",
       "      <td>16.221575</td>\n",
       "      <td>2.784200e-04</td>\n",
       "      <td>1.969200e-04</td>\n",
       "      <td>1680.408539</td>\n",
       "      <td>1749.518461</td>\n",
       "      <td>1.000374</td>\n",
       "    </tr>\n",
       "    <tr>\n",
       "      <th>delta_m_15</th>\n",
       "      <td>0.661146</td>\n",
       "      <td>0.049331</td>\n",
       "      <td>0.609071</td>\n",
       "      <td>0.706478</td>\n",
       "      <td>9.832000e-04</td>\n",
       "      <td>6.953100e-04</td>\n",
       "      <td>2522.867075</td>\n",
       "      <td>3066.477261</td>\n",
       "      <td>1.001122</td>\n",
       "    </tr>\n",
       "  </tbody>\n",
       "</table>\n",
       "</div>"
      ],
      "text/plain": [
       "                    mean        sd       hdi_16%       hdi_84%     mcse_mean  \\\n",
       "t_max       59720.728312  0.273003  59720.415720  59720.952762  7.030480e-03   \n",
       "a4              0.000015  0.000004      0.000012      0.000020  1.100000e-07   \n",
       "a3             -0.000649  0.000086     -0.000747     -0.000577  2.590000e-06   \n",
       "a2              0.009282  0.000519      0.009101      0.009997  1.462000e-05   \n",
       "a0             16.211146  0.011400     16.199104     16.221575  2.784200e-04   \n",
       "delta_m_15      0.661146  0.049331      0.609071      0.706478  9.832000e-04   \n",
       "\n",
       "                 mcse_sd     ess_bulk     ess_tail     r_hat  \n",
       "t_max       4.972270e-03  1531.528722  1541.442524  1.002539  \n",
       "a4          8.000000e-08  1328.898420  1297.457157  1.001338  \n",
       "a3          1.830000e-06  1136.331139  1104.025693  1.001769  \n",
       "a2          1.034000e-05  1177.434405  1309.203476  1.000741  \n",
       "a0          1.969200e-04  1680.408539  1749.518461  1.000374  \n",
       "delta_m_15  6.953100e-04  2522.867075  3066.477261  1.001122  "
      ]
     },
     "execution_count": 88,
     "metadata": {},
     "output_type": "execute_result"
    }
   ],
   "source": [
    "summary_I_peak = az.summary(\n",
    "    trace_peak_I,\n",
    "    hdi_prob=0.68,\n",
    "    round_to=8,\n",
    "    var_names=[var for var in trace_peak_I.posterior.data_vars if not \"mag\" in var],\n",
    ")\n",
    "summary_pred_I_peak = az.summary(\n",
    "    trace_peak_I,\n",
    "    hdi_prob=0.68,\n",
    "    var_names=[var for var in trace_peak_I.posterior.data_vars if \"pred\" in var],\n",
    ")\n",
    "summary_I_peak"
   ]
  },
  {
   "cell_type": "code",
   "execution_count": 89,
   "metadata": {},
   "outputs": [
    {
     "name": "stdout",
     "output_type": "stream",
     "text": [
      "M_B,max = -19.456 +/- 0.011\n",
      "M_V,max = -19.544 +/- 0.009\n",
      "M_R,max = -19.496 +/- 0.009\n",
      "M_I,max = -19.222 +/- 0.011\n"
     ]
    }
   ],
   "source": [
    "leff_B = 4354.45  # AA\n",
    "leff_V = 5336.14  # AA\n",
    "leff_R = 6306.93  # AA\n",
    "leff_I = 8802.84  # AA\n",
    "print(\n",
    "    \"M_B,max = {:.3f} +/- {:.3f}\".format(\n",
    "        summary_B_peak[\"mean\"].loc[\"a0\"] - calALambda(wv=leff_B, RV=3.1, EBV=ebv) - mu,\n",
    "        summary_B_peak[\"sd\"].loc[\"a0\"],\n",
    "    )\n",
    ")\n",
    "print(\n",
    "    \"M_V,max = {:.3f} +/- {:.3f}\".format(\n",
    "        summary_V_peak[\"mean\"].loc[\"a0\"] - calALambda(wv=leff_V, RV=3.1, EBV=ebv) - mu,\n",
    "        summary_V_peak[\"sd\"].loc[\"a0\"],\n",
    "    )\n",
    ")\n",
    "print(\n",
    "    \"M_R,max = {:.3f} +/- {:.3f}\".format(\n",
    "        summary_R_peak[\"mean\"].loc[\"a0\"] - calALambda(wv=leff_R, RV=3.1, EBV=ebv) - mu,\n",
    "        summary_R_peak[\"sd\"].loc[\"a0\"],\n",
    "    )\n",
    ")\n",
    "print(\n",
    "    \"M_I,max = {:.3f} +/- {:.3f}\".format(\n",
    "        summary_I_peak[\"mean\"].loc[\"a0\"] - calALambda(wv=leff_I, RV=3.1, EBV=ebv) - mu,\n",
    "        summary_I_peak[\"sd\"].loc[\"a0\"],\n",
    "    )\n",
    ")"
   ]
  },
  {
   "cell_type": "code",
   "execution_count": 92,
   "metadata": {},
   "outputs": [
    {
     "data": {
      "image/png": "[encoded data removed]",
      "text/plain": [
       "<Figure size 864x864 with 4 Axes>"
      ]
     },
     "metadata": {
      "needs_background": "light"
     },
     "output_type": "display_data"
    }
   ],
   "source": [
    "fig, ax = plt.subplots(4, 1, figsize=(12, 12), sharex=True, constrained_layout=True)\n",
    "# pred_ZTF = summary_pred.loc[summary_.index[:100]]\n",
    "# pred_ATLAS = summary_pred.loc[summary_pred.index[100:]]\n",
    "ax[0].plot(\n",
    "    np.linspace(-20, 20, 100) + 59723,\n",
    "    summary_pred_B_peak[\"mean\"],\n",
    "    color=\"k\",\n",
    ")\n",
    "ax[0].fill_between(\n",
    "    np.linspace(-20, 20, 100) + 59723,\n",
    "    summary_pred_B_peak[\"hdi_16%\"],\n",
    "    summary_pred_B_peak[\"hdi_84%\"],\n",
    "    color=\"0.5\",\n",
    "    alpha=0.5,\n",
    ")\n",
    "ax[0].errorbar(\n",
    "    joj_UCB[\"MJD\"].values,\n",
    "    joj_UCB[\"B\"].values,\n",
    "    yerr=joj_UCB[\"EB\"].values,\n",
    "    fmt=\"o\",\n",
    ")\n",
    "\n",
    "ax[1].plot(\n",
    "    np.linspace(-20, 20, 100)[:80] + 59725,\n",
    "    summary_pred_V_peak[\"mean\"][:80],\n",
    "    color=\"k\",\n",
    ")\n",
    "ax[1].fill_between(\n",
    "    np.linspace(-20, 20, 100)[:80] + 59725,\n",
    "    summary_pred_V_peak[\"hdi_16%\"][:80],\n",
    "    summary_pred_V_peak[\"hdi_84%\"][:80],\n",
    "    color=\"0.5\",\n",
    "    alpha=0.5,\n",
    ")\n",
    "ax[1].errorbar(\n",
    "    joj_UCB[\"MJD\"].values,\n",
    "    joj_UCB[\"V\"].values,\n",
    "    yerr=joj_UCB[\"EV\"].values,\n",
    "    fmt=\"o\",\n",
    ")\n",
    "\n",
    "ax[2].plot(\n",
    "    np.linspace(-20, 20, 100)[:80] + 59725,\n",
    "    summary_pred_R_peak[\"mean\"][:80],\n",
    "    color=\"k\",\n",
    ")\n",
    "ax[2].fill_between(\n",
    "    np.linspace(-20, 20, 100)[:80] + 59725,\n",
    "    summary_pred_R_peak[\"hdi_16%\"][:80],\n",
    "    summary_pred_R_peak[\"hdi_84%\"][:80],\n",
    "    color=\"0.5\",\n",
    "    alpha=0.5,\n",
    ")\n",
    "ax[2].errorbar(\n",
    "    joj_UCB[\"MJD\"].values,\n",
    "    joj_UCB[\"R\"].values,\n",
    "    yerr=joj_UCB[\"ER\"].values,\n",
    "    fmt=\"o\",\n",
    ")\n",
    "\n",
    "ax[3].plot(\n",
    "    np.linspace(-20, 20, 100)[20:] + 59720,\n",
    "    summary_pred_I_peak[\"mean\"][20:],\n",
    "    color=\"k\",\n",
    ")\n",
    "ax[3].fill_between(\n",
    "    np.linspace(-20, 20, 100)[20:] + 59720,\n",
    "    summary_pred_I_peak[\"hdi_16%\"][20:],\n",
    "    summary_pred_I_peak[\"hdi_84%\"][20:],\n",
    "    color=\"0.5\",\n",
    "    alpha=0.5,\n",
    ")\n",
    "ax[3].errorbar(\n",
    "    joj_UCB[\"MJD\"].values,\n",
    "    joj_UCB[\"I\"].values,\n",
    "    yerr=joj_UCB[\"EI\"].values,\n",
    "    fmt=\"o\",\n",
    ")\n",
    "\n",
    "for a in ax:\n",
    "    a.set_ylim(None, 18.5)"
   ]
  },
  {
   "attachments": {},
   "cell_type": "markdown",
   "metadata": {},
   "source": [
    "## Fit other SNe"
   ]
  },
  {
   "cell_type": "code",
   "execution_count": 95,
   "metadata": {},
   "outputs": [
    {
     "name": "stderr",
     "output_type": "stream",
     "text": [
      "Auto-assigning NUTS sampler...\n",
      "Initializing NUTS using jitter+adapt_diag...\n",
      "Multiprocess sampling (4 chains in 4 jobs)\n",
      "NUTS: [t_max, a4, a3, a2, a0]\n"
     ]
    },
    {
     "name": "stderr",
     "output_type": "stream",
     "text": [
      "Sampling 4 chains for 2_000 tune and 1_000 draw iterations (8_000 + 4_000 draws total) took 25 seconds.\n"
     ]
    }
   ],
   "source": [
    "# SN 2011fe\n",
    "g_fe = np.loadtxt(\"./SN2011fe/SN2011fe_g_synthetic.dat\")\n",
    "\n",
    "t_fl_fe = 55796.687\n",
    "t_max_mjd_fe = 55814.5\n",
    "\n",
    "fe_g_peak = g_fe[\n",
    "    ((g_fe[:, 0] - t_max_mjd_fe) / (1 + 0.0008) <= 20)\n",
    "    & ((g_fe[:, 0] - t_max_mjd_fe) / (1 + 0.0008) >= -10)\n",
    "]\n",
    "\n",
    "trace_peak_fe = peak_poly_fit(\n",
    "    MJD=fe_g_peak[:, 0],\n",
    "    mag_obs=fe_g_peak[:, 1],\n",
    "    mag_obs_unc=fe_g_peak[:, 2],\n",
    "    z=0.0008,\n",
    "    t_max_0=t_max_mjd_fe\n",
    ")"
   ]
  },
  {
   "cell_type": "code",
   "execution_count": 97,
   "metadata": {},
   "outputs": [
    {
     "data": {
      "text/html": [
       "<div>\n",
       "<style scoped>\n",
       "    .dataframe tbody tr th:only-of-type {\n",
       "        vertical-align: middle;\n",
       "    }\n",
       "\n",
       "    .dataframe tbody tr th {\n",
       "        vertical-align: top;\n",
       "    }\n",
       "\n",
       "    .dataframe thead th {\n",
       "        text-align: right;\n",
       "    }\n",
       "</style>\n",
       "<table border=\"1\" class=\"dataframe\">\n",
       "  <thead>\n",
       "    <tr style=\"text-align: right;\">\n",
       "      <th></th>\n",
       "      <th>mean</th>\n",
       "      <th>sd</th>\n",
       "      <th>hdi_16%</th>\n",
       "      <th>hdi_84%</th>\n",
       "      <th>mcse_mean</th>\n",
       "      <th>mcse_sd</th>\n",
       "      <th>ess_bulk</th>\n",
       "      <th>ess_tail</th>\n",
       "      <th>r_hat</th>\n",
       "    </tr>\n",
       "  </thead>\n",
       "  <tbody>\n",
       "    <tr>\n",
       "      <th>t_max</th>\n",
       "      <td>55814.874559</td>\n",
       "      <td>5.682200e-04</td>\n",
       "      <td>55814.873948</td>\n",
       "      <td>55814.875068</td>\n",
       "      <td>1.710000e-05</td>\n",
       "      <td>1.209000e-05</td>\n",
       "      <td>1116.425404</td>\n",
       "      <td>1358.064203</td>\n",
       "      <td>1.002746</td>\n",
       "    </tr>\n",
       "    <tr>\n",
       "      <th>a4</th>\n",
       "      <td>0.000010</td>\n",
       "      <td>1.000000e-08</td>\n",
       "      <td>0.000010</td>\n",
       "      <td>0.000010</td>\n",
       "      <td>0.000000e+00</td>\n",
       "      <td>0.000000e+00</td>\n",
       "      <td>1271.189027</td>\n",
       "      <td>1866.280974</td>\n",
       "      <td>1.002485</td>\n",
       "    </tr>\n",
       "    <tr>\n",
       "      <th>a3</th>\n",
       "      <td>-0.000340</td>\n",
       "      <td>1.200000e-07</td>\n",
       "      <td>-0.000340</td>\n",
       "      <td>-0.000339</td>\n",
       "      <td>0.000000e+00</td>\n",
       "      <td>0.000000e+00</td>\n",
       "      <td>1095.815042</td>\n",
       "      <td>1545.754375</td>\n",
       "      <td>1.003119</td>\n",
       "    </tr>\n",
       "    <tr>\n",
       "      <th>a2</th>\n",
       "      <td>0.006486</td>\n",
       "      <td>7.400000e-07</td>\n",
       "      <td>0.006485</td>\n",
       "      <td>0.006486</td>\n",
       "      <td>2.000000e-08</td>\n",
       "      <td>1.000000e-08</td>\n",
       "      <td>1675.532353</td>\n",
       "      <td>2259.011574</td>\n",
       "      <td>1.002272</td>\n",
       "    </tr>\n",
       "    <tr>\n",
       "      <th>a0</th>\n",
       "      <td>9.890724</td>\n",
       "      <td>2.240000e-05</td>\n",
       "      <td>9.890703</td>\n",
       "      <td>9.890746</td>\n",
       "      <td>5.300000e-07</td>\n",
       "      <td>3.800000e-07</td>\n",
       "      <td>1786.209394</td>\n",
       "      <td>2234.362789</td>\n",
       "      <td>1.000446</td>\n",
       "    </tr>\n",
       "    <tr>\n",
       "      <th>delta_m_15</th>\n",
       "      <td>0.796856</td>\n",
       "      <td>8.347000e-05</td>\n",
       "      <td>0.796770</td>\n",
       "      <td>0.796934</td>\n",
       "      <td>2.200000e-06</td>\n",
       "      <td>1.550000e-06</td>\n",
       "      <td>1452.120122</td>\n",
       "      <td>2260.022658</td>\n",
       "      <td>1.001483</td>\n",
       "    </tr>\n",
       "  </tbody>\n",
       "</table>\n",
       "</div>"
      ],
      "text/plain": [
       "                    mean            sd       hdi_16%       hdi_84%  \\\n",
       "t_max       55814.874559  5.682200e-04  55814.873948  55814.875068   \n",
       "a4              0.000010  1.000000e-08      0.000010      0.000010   \n",
       "a3             -0.000340  1.200000e-07     -0.000340     -0.000339   \n",
       "a2              0.006486  7.400000e-07      0.006485      0.006486   \n",
       "a0              9.890724  2.240000e-05      9.890703      9.890746   \n",
       "delta_m_15      0.796856  8.347000e-05      0.796770      0.796934   \n",
       "\n",
       "               mcse_mean       mcse_sd     ess_bulk     ess_tail     r_hat  \n",
       "t_max       1.710000e-05  1.209000e-05  1116.425404  1358.064203  1.002746  \n",
       "a4          0.000000e+00  0.000000e+00  1271.189027  1866.280974  1.002485  \n",
       "a3          0.000000e+00  0.000000e+00  1095.815042  1545.754375  1.003119  \n",
       "a2          2.000000e-08  1.000000e-08  1675.532353  2259.011574  1.002272  \n",
       "a0          5.300000e-07  3.800000e-07  1786.209394  2234.362789  1.000446  \n",
       "delta_m_15  2.200000e-06  1.550000e-06  1452.120122  2260.022658  1.001483  "
      ]
     },
     "execution_count": 97,
     "metadata": {},
     "output_type": "execute_result"
    },
    {
     "data": {
      "image/png": "[encoded data removed]",
      "text/plain": [
       "<Figure size 576x288 with 1 Axes>"
      ]
     },
     "metadata": {
      "needs_background": "light"
     },
     "output_type": "display_data"
    }
   ],
   "source": [
    "summary_fe = az.summary(\n",
    "    trace_peak_fe,\n",
    "    hdi_prob=0.68,\n",
    "    round_to=8,\n",
    "    var_names=[var for var in trace_peak_fe.posterior.data_vars if not \"mag\" in var],\n",
    ")\n",
    "summary_pred_fe = az.summary(\n",
    "    trace_peak_fe,\n",
    "    hdi_prob=0.68,\n",
    "    var_names=[var for var in trace_peak_fe.posterior.data_vars if \"pred\" in var],\n",
    ")\n",
    "MJD_pred = np.linspace(-10, 20, 100) + t_max_mjd_fe\n",
    "fig, ax = plt.subplots(figsize=(8, 4), sharex=True, constrained_layout=True)\n",
    "# pred_ZTF = summary_pred.loc[summary_.index[:100]]\n",
    "# pred_ATLAS = summary_pred.loc[summary_pred.index[100:]]\n",
    "ax.plot(\n",
    "    MJD_pred,\n",
    "    summary_pred_fe[\"mean\"],\n",
    "    color=\"k\",\n",
    ")\n",
    "ax.fill_between(\n",
    "    MJD_pred,\n",
    "    summary_pred_fe[\"hdi_16%\"],\n",
    "    summary_pred_fe[\"hdi_84%\"],\n",
    "    color=\"0.5\",\n",
    "    alpha=0.5,\n",
    ")\n",
    "ax.errorbar(\n",
    "    fe_g_peak[:, 0],\n",
    "    fe_g_peak[:, 1],\n",
    "    yerr=fe_g_peak[:, 2],\n",
    "    fmt=\"o\",\n",
    ")\n",
    "summary_fe"
   ]
  },
  {
   "cell_type": "code",
   "execution_count": 102,
   "metadata": {},
   "outputs": [
    {
     "name": "stderr",
     "output_type": "stream",
     "text": [
      "Auto-assigning NUTS sampler...\n",
      "Initializing NUTS using jitter+adapt_diag...\n",
      "Multiprocess sampling (4 chains in 4 jobs)\n",
      "NUTS: [t_max, a4, a3, a2, a0]\n"
     ]
    },
    {
     "name": "stderr",
     "output_type": "stream",
     "text": [
      "Sampling 4 chains for 2_000 tune and 1_000 draw iterations (8_000 + 4_000 draws total) took 25 seconds.\n"
     ]
    }
   ],
   "source": [
    "# SN2018cnw\n",
    "raw = pd.read_csv(\"./color/early18ia/ZTF18abauprj.dat\", sep=\" \")\n",
    "lc_g = np.array(raw)[:, :-1][raw[\"fid\"] == 1]  # determine the first detection\n",
    "\n",
    "cnw_peak = lc_g[\n",
    "    ((lc_g[:, 0]) <= 20)\n",
    "    & ((lc_g[:, 0]) >= -10)\n",
    "]\n",
    "\n",
    "trace_peak_cnw = peak_poly_fit(\n",
    "    MJD=cnw_peak[:, 0],\n",
    "    mag_obs=cnw_peak[:, 1],\n",
    "    mag_obs_unc=cnw_peak[:, 2],\n",
    "    z=0.0242,\n",
    "    t_max_0=0\n",
    ")"
   ]
  },
  {
   "cell_type": "code",
   "execution_count": 103,
   "metadata": {},
   "outputs": [
    {
     "data": {
      "text/html": [
       "<div>\n",
       "<style scoped>\n",
       "    .dataframe tbody tr th:only-of-type {\n",
       "        vertical-align: middle;\n",
       "    }\n",
       "\n",
       "    .dataframe tbody tr th {\n",
       "        vertical-align: top;\n",
       "    }\n",
       "\n",
       "    .dataframe thead th {\n",
       "        text-align: right;\n",
       "    }\n",
       "</style>\n",
       "<table border=\"1\" class=\"dataframe\">\n",
       "  <thead>\n",
       "    <tr style=\"text-align: right;\">\n",
       "      <th></th>\n",
       "      <th>mean</th>\n",
       "      <th>sd</th>\n",
       "      <th>hdi_16%</th>\n",
       "      <th>hdi_84%</th>\n",
       "      <th>mcse_mean</th>\n",
       "      <th>mcse_sd</th>\n",
       "      <th>ess_bulk</th>\n",
       "      <th>ess_tail</th>\n",
       "      <th>r_hat</th>\n",
       "    </tr>\n",
       "  </thead>\n",
       "  <tbody>\n",
       "    <tr>\n",
       "      <th>t_max</th>\n",
       "      <td>0.566898</td>\n",
       "      <td>8.126525e-02</td>\n",
       "      <td>0.487946</td>\n",
       "      <td>0.647095</td>\n",
       "      <td>2.483230e-03</td>\n",
       "      <td>1.772810e-03</td>\n",
       "      <td>1078.999064</td>\n",
       "      <td>1114.562650</td>\n",
       "      <td>1.000756</td>\n",
       "    </tr>\n",
       "    <tr>\n",
       "      <th>a4</th>\n",
       "      <td>0.000002</td>\n",
       "      <td>5.300000e-07</td>\n",
       "      <td>0.000001</td>\n",
       "      <td>0.000002</td>\n",
       "      <td>2.000000e-08</td>\n",
       "      <td>1.000000e-08</td>\n",
       "      <td>1092.914348</td>\n",
       "      <td>1350.077628</td>\n",
       "      <td>1.001715</td>\n",
       "    </tr>\n",
       "    <tr>\n",
       "      <th>a3</th>\n",
       "      <td>-0.000116</td>\n",
       "      <td>1.057000e-05</td>\n",
       "      <td>-0.000127</td>\n",
       "      <td>-0.000106</td>\n",
       "      <td>3.300000e-07</td>\n",
       "      <td>2.300000e-07</td>\n",
       "      <td>1032.888157</td>\n",
       "      <td>1069.684666</td>\n",
       "      <td>1.001163</td>\n",
       "    </tr>\n",
       "    <tr>\n",
       "      <th>a2</th>\n",
       "      <td>0.004794</td>\n",
       "      <td>5.639000e-05</td>\n",
       "      <td>0.004729</td>\n",
       "      <td>0.004841</td>\n",
       "      <td>1.310000e-06</td>\n",
       "      <td>9.300000e-07</td>\n",
       "      <td>1842.342489</td>\n",
       "      <td>2047.046874</td>\n",
       "      <td>0.999653</td>\n",
       "    </tr>\n",
       "    <tr>\n",
       "      <th>a0</th>\n",
       "      <td>-19.564166</td>\n",
       "      <td>2.522390e-03</td>\n",
       "      <td>-19.566477</td>\n",
       "      <td>-19.561455</td>\n",
       "      <td>5.866000e-05</td>\n",
       "      <td>4.149000e-05</td>\n",
       "      <td>1844.556874</td>\n",
       "      <td>1931.542814</td>\n",
       "      <td>0.999544</td>\n",
       "    </tr>\n",
       "    <tr>\n",
       "      <th>delta_m_15</th>\n",
       "      <td>0.772198</td>\n",
       "      <td>9.266650e-03</td>\n",
       "      <td>0.762895</td>\n",
       "      <td>0.781066</td>\n",
       "      <td>2.681400e-04</td>\n",
       "      <td>1.898300e-04</td>\n",
       "      <td>1200.510184</td>\n",
       "      <td>1540.572984</td>\n",
       "      <td>1.001374</td>\n",
       "    </tr>\n",
       "  </tbody>\n",
       "</table>\n",
       "</div>"
      ],
      "text/plain": [
       "                 mean            sd    hdi_16%    hdi_84%     mcse_mean  \\\n",
       "t_max        0.566898  8.126525e-02   0.487946   0.647095  2.483230e-03   \n",
       "a4           0.000002  5.300000e-07   0.000001   0.000002  2.000000e-08   \n",
       "a3          -0.000116  1.057000e-05  -0.000127  -0.000106  3.300000e-07   \n",
       "a2           0.004794  5.639000e-05   0.004729   0.004841  1.310000e-06   \n",
       "a0         -19.564166  2.522390e-03 -19.566477 -19.561455  5.866000e-05   \n",
       "delta_m_15   0.772198  9.266650e-03   0.762895   0.781066  2.681400e-04   \n",
       "\n",
       "                 mcse_sd     ess_bulk     ess_tail     r_hat  \n",
       "t_max       1.772810e-03  1078.999064  1114.562650  1.000756  \n",
       "a4          1.000000e-08  1092.914348  1350.077628  1.001715  \n",
       "a3          2.300000e-07  1032.888157  1069.684666  1.001163  \n",
       "a2          9.300000e-07  1842.342489  2047.046874  0.999653  \n",
       "a0          4.149000e-05  1844.556874  1931.542814  0.999544  \n",
       "delta_m_15  1.898300e-04  1200.510184  1540.572984  1.001374  "
      ]
     },
     "execution_count": 103,
     "metadata": {},
     "output_type": "execute_result"
    },
    {
     "data": {
      "image/png": "[encoded data removed]",
      "text/plain": [
       "<Figure size 576x288 with 1 Axes>"
      ]
     },
     "metadata": {
      "needs_background": "light"
     },
     "output_type": "display_data"
    }
   ],
   "source": [
    "summary_cnw = az.summary(\n",
    "    trace_peak_cnw,\n",
    "    hdi_prob=0.68,\n",
    "    round_to=8,\n",
    "    var_names=[var for var in trace_peak_cnw.posterior.data_vars if not \"mag\" in var],\n",
    ")\n",
    "summary_pred_cnw = az.summary(\n",
    "    trace_peak_cnw,\n",
    "    hdi_prob=0.68,\n",
    "    var_names=[var for var in trace_peak_cnw.posterior.data_vars if \"pred\" in var],\n",
    ")\n",
    "MJD_pred = np.linspace(-10, 20, 100)\n",
    "fig, ax = plt.subplots(figsize=(8, 4), sharex=True, constrained_layout=True)\n",
    "# pred_ZTF = summary_pred.loc[summary_.index[:100]]\n",
    "# pred_ATLAS = summary_pred.loc[summary_pred.index[100:]]\n",
    "ax.plot(\n",
    "    MJD_pred,\n",
    "    summary_pred_cnw[\"mean\"],\n",
    "    color=\"k\",\n",
    ")\n",
    "ax.fill_between(\n",
    "    MJD_pred,\n",
    "    summary_pred_cnw[\"hdi_16%\"],\n",
    "    summary_pred_cnw[\"hdi_84%\"],\n",
    "    color=\"0.5\",\n",
    "    alpha=0.5,\n",
    ")\n",
    "ax.errorbar(\n",
    "    cnw_peak[:, 0],\n",
    "    cnw_peak[:, 1],\n",
    "    yerr=cnw_peak[:, 2],\n",
    "    fmt=\"o\",\n",
    ")\n",
    "summary_cnw"
   ]
  },
  {
   "cell_type": "markdown",
   "metadata": {},
   "source": [
    "# $s_{BV}$"
   ]
  },
  {
   "cell_type": "code",
   "execution_count": 123,
   "metadata": {},
   "outputs": [],
   "source": [
    "def sBV_fit(MJD, BV_obs, BV_obs_unc, z=0, tB_max=59723):\n",
    "    MJD_pred = np.linspace(0, 50, 100) + tB_max\n",
    "    with pm.Model() as BV:\n",
    "        s0 = pm.Uniform(\"s0\", 0, 0.15)\n",
    "        s1 = pm.Uniform(\"s1\", -0.02, 0)\n",
    "        tau = pm.Normal(\"tau\", 10, 2)\n",
    "        t_h = pm.Uniform(\"t_h\", 10, 50)\n",
    "        C = pm.Uniform(\"C\", -0.5, 0.5)\n",
    "\n",
    "        phase = (MJD - tB_max) / (1 + z)\n",
    "        phase_pred = (MJD_pred - tB_max) / (1 + z)\n",
    "        BV = pm.Deterministic(\n",
    "            \"B-V\",\n",
    "            0.5 * (s0 + s1) * phase\n",
    "            + 0.5 * tau * (s1 - s0) * pm.math.log(pm.math.cosh((phase - t_h) / tau))\n",
    "            + C,\n",
    "        )\n",
    "        obs = pm.Normal(\"obs\", BV, BV_obs_unc, observed=BV_obs)\n",
    "        BV_pred = pm.Deterministic(\n",
    "            \"B-V_pred\",\n",
    "            0.5 * (s0 + s1) * phase_pred\n",
    "            + 0.5\n",
    "            * tau\n",
    "            * (s1 - s0)\n",
    "            * pm.math.log(pm.math.cosh((phase_pred - t_h) / tau))\n",
    "            + C,\n",
    "        )\n",
    "        pm.Deterministic(\"s_BV\", (0.5 * tau * pm.math.log(-s0 / s1) + t_h) / 30)\n",
    "        trace_BV = pm.sample(return_inferencedata=True, tune=2000, target_accept=0.95)\n",
    "    return trace_BV"
   ]
  },
  {
   "cell_type": "code",
   "execution_count": 137,
   "metadata": {},
   "outputs": [],
   "source": [
    "UCB_arg = (joj_UCB[\"MJD\"] - 59722.767776) / (1 + z) >= 2\n",
    "\n",
    "MJD = joj_UCB[\"MJD\"][UCB_arg].values\n",
    "B = joj_UCB[\"B\"][UCB_arg].values\n",
    "B_err = joj_UCB[\"EB\"][UCB_arg].values\n",
    "V = joj_UCB[\"V\"][UCB_arg].values\n",
    "V_err = joj_UCB[\"EV\"][UCB_arg].values\n",
    "\n",
    "f1 = 10 ** (-0.4 * B)\n",
    "f1_err = f1 * B_err * np.log(10) / 2.5\n",
    "\n",
    "f2 = 10 ** (-0.4 * V)\n",
    "f2_err = f2 * V_err * np.log(10) / 2.5\n",
    "\n",
    "f12 = f1 / f2\n",
    "B_V = -2.5 * np.log10(f12)\n",
    "delta_f12 = ((f1_err / f1) ** 2 + (f2_err / f2) ** 2) ** 0.5 * f12\n",
    "B_V_err = delta_f12 / f12 * 2.5 / np.log(10)"
   ]
  },
  {
   "cell_type": "code",
   "execution_count": 138,
   "metadata": {},
   "outputs": [
    {
     "name": "stderr",
     "output_type": "stream",
     "text": [
      "Auto-assigning NUTS sampler...\n",
      "Initializing NUTS using jitter+adapt_diag...\n",
      "Multiprocess sampling (4 chains in 4 jobs)\n",
      "NUTS: [s0, s1, tau, t_h, C]\n"
     ]
    },
    {
     "data": {
      "text/html": [
       "\n",
       "<style>\n",
       "    /* Turns off some styling */\n",
       "    progress {\n",
       "        /* gets rid of default border in Firefox and Opera. */\n",
       "        border: none;\n",
       "        /* Needs to be in here for Safari polyfill so background images work as expected. */\n",
       "        background-size: auto;\n",
       "    }\n",
       "    progress:not([value]), progress:not([value])::-webkit-progress-bar {\n",
       "        background: repeating-linear-gradient(45deg, #7e7e7e, #7e7e7e 10px, #5c5c5c 10px, #5c5c5c 20px);\n",
       "    }\n",
       "    .progress-bar-interrupted, .progress-bar-interrupted::-webkit-progress-bar {\n",
       "        background: #F44336;\n",
       "    }\n",
       "</style>\n"
      ],
      "text/plain": [
       "<IPython.core.display.HTML object>"
      ]
     },
     "metadata": {},
     "output_type": "display_data"
    },
    {
     "data": {
      "text/html": [
       "\n",
       "    <div>\n",
       "      <progress value='12000' class='' max='12000' style='width:300px; height:20px; vertical-align: middle;'></progress>\n",
       "      100.00% [12000/12000 00:07&lt;00:00 Sampling 4 chains, 0 divergences]\n",
       "    </div>\n",
       "    "
      ],
      "text/plain": [
       "<IPython.core.display.HTML object>"
      ]
     },
     "metadata": {},
     "output_type": "display_data"
    },
    {
     "name": "stderr",
     "output_type": "stream",
     "text": [
      "Sampling 4 chains for 2_000 tune and 1_000 draw iterations (8_000 + 4_000 draws total) took 15 seconds.\n"
     ]
    }
   ],
   "source": [
    "trace_BV = sBV_fit(\n",
    "    MJD=MJD[~np.isnan(B_V)],\n",
    "    BV_obs=B_V[~np.isnan(B_V)],\n",
    "    BV_obs_unc=B_V_err[~np.isnan(B_V)],\n",
    "    z=z,\n",
    "    tB_max=59722.767776,\n",
    ")"
   ]
  },
  {
   "cell_type": "code",
   "execution_count": 139,
   "metadata": {},
   "outputs": [
    {
     "data": {
      "text/html": [
       "<div>\n",
       "<style scoped>\n",
       "    .dataframe tbody tr th:only-of-type {\n",
       "        vertical-align: middle;\n",
       "    }\n",
       "\n",
       "    .dataframe tbody tr th {\n",
       "        vertical-align: top;\n",
       "    }\n",
       "\n",
       "    .dataframe thead th {\n",
       "        text-align: right;\n",
       "    }\n",
       "</style>\n",
       "<table border=\"1\" class=\"dataframe\">\n",
       "  <thead>\n",
       "    <tr style=\"text-align: right;\">\n",
       "      <th></th>\n",
       "      <th>mean</th>\n",
       "      <th>sd</th>\n",
       "      <th>hdi_16%</th>\n",
       "      <th>hdi_84%</th>\n",
       "      <th>mcse_mean</th>\n",
       "      <th>mcse_sd</th>\n",
       "      <th>ess_bulk</th>\n",
       "      <th>ess_tail</th>\n",
       "      <th>r_hat</th>\n",
       "    </tr>\n",
       "  </thead>\n",
       "  <tbody>\n",
       "    <tr>\n",
       "      <th>tau</th>\n",
       "      <td>10.788564</td>\n",
       "      <td>1.794956</td>\n",
       "      <td>9.158551</td>\n",
       "      <td>12.581907</td>\n",
       "      <td>0.044314</td>\n",
       "      <td>0.031931</td>\n",
       "      <td>1658.660433</td>\n",
       "      <td>1945.190613</td>\n",
       "      <td>1.002852</td>\n",
       "    </tr>\n",
       "    <tr>\n",
       "      <th>s0</th>\n",
       "      <td>0.077307</td>\n",
       "      <td>0.015017</td>\n",
       "      <td>0.059521</td>\n",
       "      <td>0.085991</td>\n",
       "      <td>0.000580</td>\n",
       "      <td>0.000414</td>\n",
       "      <td>730.548187</td>\n",
       "      <td>949.249076</td>\n",
       "      <td>1.007809</td>\n",
       "    </tr>\n",
       "    <tr>\n",
       "      <th>s1</th>\n",
       "      <td>-0.008269</td>\n",
       "      <td>0.005202</td>\n",
       "      <td>-0.010786</td>\n",
       "      <td>-0.000034</td>\n",
       "      <td>0.000125</td>\n",
       "      <td>0.000092</td>\n",
       "      <td>1668.409206</td>\n",
       "      <td>1562.383171</td>\n",
       "      <td>1.002026</td>\n",
       "    </tr>\n",
       "    <tr>\n",
       "      <th>t_h</th>\n",
       "      <td>17.582524</td>\n",
       "      <td>2.572390</td>\n",
       "      <td>16.002193</td>\n",
       "      <td>20.925535</td>\n",
       "      <td>0.095014</td>\n",
       "      <td>0.067212</td>\n",
       "      <td>747.584703</td>\n",
       "      <td>798.421514</td>\n",
       "      <td>1.008530</td>\n",
       "    </tr>\n",
       "    <tr>\n",
       "      <th>C</th>\n",
       "      <td>0.330109</td>\n",
       "      <td>0.120122</td>\n",
       "      <td>0.287770</td>\n",
       "      <td>0.498837</td>\n",
       "      <td>0.004284</td>\n",
       "      <td>0.003030</td>\n",
       "      <td>849.306974</td>\n",
       "      <td>950.810058</td>\n",
       "      <td>1.010455</td>\n",
       "    </tr>\n",
       "    <tr>\n",
       "      <th>s_BV</th>\n",
       "      <td>1.040877</td>\n",
       "      <td>0.160536</td>\n",
       "      <td>0.878315</td>\n",
       "      <td>1.093158</td>\n",
       "      <td>0.003719</td>\n",
       "      <td>0.002677</td>\n",
       "      <td>2197.444427</td>\n",
       "      <td>1847.383148</td>\n",
       "      <td>1.001974</td>\n",
       "    </tr>\n",
       "  </tbody>\n",
       "</table>\n",
       "</div>"
      ],
      "text/plain": [
       "           mean        sd    hdi_16%    hdi_84%  mcse_mean   mcse_sd  \\\n",
       "tau   10.788564  1.794956   9.158551  12.581907   0.044314  0.031931   \n",
       "s0     0.077307  0.015017   0.059521   0.085991   0.000580  0.000414   \n",
       "s1    -0.008269  0.005202  -0.010786  -0.000034   0.000125  0.000092   \n",
       "t_h   17.582524  2.572390  16.002193  20.925535   0.095014  0.067212   \n",
       "C      0.330109  0.120122   0.287770   0.498837   0.004284  0.003030   \n",
       "s_BV   1.040877  0.160536   0.878315   1.093158   0.003719  0.002677   \n",
       "\n",
       "         ess_bulk     ess_tail     r_hat  \n",
       "tau   1658.660433  1945.190613  1.002852  \n",
       "s0     730.548187   949.249076  1.007809  \n",
       "s1    1668.409206  1562.383171  1.002026  \n",
       "t_h    747.584703   798.421514  1.008530  \n",
       "C      849.306974   950.810058  1.010455  \n",
       "s_BV  2197.444427  1847.383148  1.001974  "
      ]
     },
     "execution_count": 139,
     "metadata": {},
     "output_type": "execute_result"
    }
   ],
   "source": [
    "summary_BV = az.summary(\n",
    "    trace_BV,\n",
    "    hdi_prob=0.68,\n",
    "    round_to=8,\n",
    "    var_names=[var for var in trace_BV.posterior.data_vars if not \"B-V\" in var],\n",
    ")\n",
    "summary_pred_BV = az.summary(\n",
    "    trace_BV,\n",
    "    hdi_prob=0.68,\n",
    "    var_names=[var for var in trace_BV.posterior.data_vars if \"pred\" in var],\n",
    ")\n",
    "summary_BV"
   ]
  },
  {
   "cell_type": "code",
   "execution_count": 140,
   "metadata": {},
   "outputs": [
    {
     "data": {
      "text/plain": [
       "<ErrorbarContainer object of 3 artists>"
      ]
     },
     "execution_count": 140,
     "metadata": {},
     "output_type": "execute_result"
    },
    {
     "data": {
      "image/png": "[encoded data removed]",
      "text/plain": [
       "<Figure size 800x400 with 1 Axes>"
      ]
     },
     "metadata": {},
     "output_type": "display_data"
    }
   ],
   "source": [
    "MJD_pred = np.linspace(0, 50, 100)\n",
    "fig, ax = plt.subplots(figsize=(8, 4), sharex=True, constrained_layout=True)\n",
    "# pred_ZTF = summary_pred.loc[summary_.index[:100]]\n",
    "# pred_ATLAS = summary_pred.loc[summary_pred.index[100:]]\n",
    "ax.plot(\n",
    "    MJD_pred,\n",
    "    summary_pred_BV[\"mean\"],\n",
    "    color=\"k\",\n",
    ")\n",
    "ax.fill_between(\n",
    "    MJD_pred,\n",
    "    summary_pred_BV[\"hdi_16%\"],\n",
    "    summary_pred_BV[\"hdi_84%\"],\n",
    "    color=\"0.5\",\n",
    "    alpha=0.5,\n",
    ")\n",
    "ax.errorbar((MJD - 59722.767776) / (1 + z), B_V, yerr=B_V_err, fmt=\"o\")\n",
    "# summary_cnw"
   ]
  },
  {
   "cell_type": "code",
   "execution_count": null,
   "metadata": {},
   "outputs": [],
   "source": []
  }
 ],
 "metadata": {
  "kernelspec": {
   "display_name": "astron",
   "language": "python",
   "name": "python3"
  },
  "language_info": {
   "codemirror_mode": {
    "name": "ipython",
    "version": 3
   },
   "file_extension": ".py",
   "mimetype": "text/x-python",
   "name": "python",
   "nbconvert_exporter": "python",
   "pygments_lexer": "ipython3",
   "version": "3.10.5"
  },
  "latex_envs": {
   "LaTeX_envs_menu_present": true,
   "autoclose": false,
   "autocomplete": true,
   "bibliofile": "biblio.bib",
   "cite_by": "apalike",
   "current_citInitial": 1,
   "eqLabelWithNumbers": true,
   "eqNumInitial": 1,
   "hotkeys": {
    "equation": "Ctrl-E",
    "itemize": "Ctrl-I"
   },
   "labels_anchors": false,
   "latex_user_defs": false,
   "report_style_numbering": false,
   "user_envs_cfg": false
  },
  "vscode": {
   "interpreter": {
    "hash": "cf4a5838013df55b6379ff723fd8d3f5b26eb681b501fef2afa11b456e1cd9a7"
   }
  }
 },
 "nbformat": 4,
 "nbformat_minor": 4
}
